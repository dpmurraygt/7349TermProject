{
 "cells": [
  {
   "cell_type": "markdown",
   "metadata": {},
   "source": [
    "In our case, the dataset will be a subset of an airline's customer database.  The data contains information from the customer file, combined with information from the records of flights that each customer has taken.  "
   ]
  },
  {
   "cell_type": "markdown",
   "metadata": {},
   "source": [
    "Identifiers Contained in the Data\n",
    "\n",
    "The original data set contains each customer's frequent flier account number, as well as name, date of birth, passport number (if known by the airline) and home address.  The fields for any direct identifiers will be not be extracted from the database, but the customer's calculated age, home zip code, and gender will be extracted from the database.\n",
    "\n",
    "For each flight, the flight number, origin and destination codes, mileage, date and departure time will be included for each passenger in the subset.\n",
    "\n",
    "The airline has also declared that the records of any minors be excluded from the data extraction to protect the most sensitive passengers.  \n",
    "\n",
    "The stated objective of the release of data is for review of the data for improvements in the times and routes covered, but leaving open the possibility of additional findings by trying to show the data as deep as possible."
   ]
  },
  {
   "cell_type": "code",
   "execution_count": 219,
   "metadata": {
    "collapsed": false
   },
   "outputs": [],
   "source": [
    "# import packages\n",
    "\n",
    "import pandas as pd \n",
    "import seaborn as sns\n",
    "import numpy as np\n",
    "import matplotlib.pyplot as plt\n",
    "import scipy.stats \n",
    "import sklearn as sk\n",
    "import statsmodels.api as sm\n",
    "#import statsmodels.formula.api as smf\n",
    "from statsmodels.stats.outliers_influence import variance_inflation_factor\n",
    "\n",
    "from pandas.tools.plotting import scatter_plot\n",
    "from pandas.tools.plotting import scatter_matrix\n",
    "\n",
    "from sklearn.preprocessing import scale, StandardScaler\n",
    "from sklearn import preprocessing, cross_validation, svm\n",
    "from sklearn.linear_model import LinearRegression, Lasso, Lars, SGDRegressor\n",
    "\n",
    "from sklearn.decomposition import PCA \n",
    "from sklearn.cluster import KMeans\n",
    "from sklearn.neighbors import KNeighborsRegressor\n",
    "from sklearn.pipeline import Pipeline\n",
    "from sklearn.neighbors import KNeighborsClassifier\n",
    "from sklearn.model_selection import StratifiedKFold\n",
    "from sklearn.preprocessing import StandardScaler\n",
    "import numpy as np\n",
    "from sklearn import metrics as mt\n",
    "from Crypto.Cipher import AES\n",
    "\n",
    "import random\n",
    "\n",
    "\n",
    "#import locale\n",
    "#locale.setlocale( locale.LC_ALL, 'en_US.UTF-8' ) \n",
    "\n",
    "from pandas.tools.plotting import scatter_matrix\n",
    "\n",
    "from sklearn.svm import SVR\n",
    "from sklearn.feature_selection import RFE, RFECV\n",
    "\n",
    "from sklearn.decomposition import PCA \n",
    "from sklearn.pipeline import Pipeline\n",
    "\n",
    "#configure the random seed so we our randomness is reproducible for selection of learn/test sets\n",
    "np.random.seed(0)\n",
    "\n",
    "%matplotlib inline"
   ]
  },
  {
   "cell_type": "code",
   "execution_count": 220,
   "metadata": {
    "collapsed": true
   },
   "outputs": [],
   "source": [
    "#Data gathering "
   ]
  },
  {
   "cell_type": "code",
   "execution_count": 221,
   "metadata": {
    "collapsed": false
   },
   "outputs": [],
   "source": [
    "#Use the flight data from our other project\n",
    "OnTime = pd.read_csv(\"Data/20170112_DataMiningI_TestDataSet_EXP_DS.csv\")\n",
    "OnTime = OnTime.loc[OnTime['flight_type_code']!= 'X']\n",
    "OnTime['route_sequence_number'] = OnTime['route_sequence_number']/100000000\n",
    "#Create indicator for ontime performance, where 1 = OnTime and 0 = LATE\n",
    "OnTime['OnTimeIndicator'] = np.where(OnTime['dot_delay_mins']>=15, 0, 1)\n",
    "#Need some Time of Day buckets\n",
    "OnTime['TimeBucket']=pd.cut(OnTime['local_scheduled_dep_time'],[0, 600, 700, 1200, 2000, 2200,2800],6, \n",
    "       labels=[\"deep_shoulder_am\", \"shoulder_am\", \"am_meat\", \"pm_meat\", \"shoulder_pm\",\"deep_shoulder_pm\"])\n",
    "#Need an \"International\" code\n",
    "OnTime['International'] = np.where(OnTime['origin_country']!=OnTime['destination_country'], 1, 0)\n",
    "del OnTime['flt_attendant_change_ind']\n",
    "OnTime['Originator_ind'] = np.where(OnTime['route_sequence_number']== 1.0,1,0)\n",
    "OnTime['D_zero_ind'] = np.where(OnTime['push_delay_mins']== 0,1,0)\n",
    "\n",
    "\n",
    "OnTime = OnTime.ix[:,['origin', 'destination', 'departure_date', 'flight_route_number', 'miles_flown']]"
   ]
  },
  {
   "cell_type": "code",
   "execution_count": 222,
   "metadata": {
    "collapsed": false
   },
   "outputs": [
    {
     "data": {
      "text/plain": [
       "Index(['origin', 'destination', 'departure_date', 'flight_route_number',\n",
       "       'miles_flown'],\n",
       "      dtype='object')"
      ]
     },
     "execution_count": 222,
     "metadata": {},
     "output_type": "execute_result"
    }
   ],
   "source": [
    "OnTime.columns"
   ]
  },
  {
   "cell_type": "code",
   "execution_count": 223,
   "metadata": {
    "collapsed": false
   },
   "outputs": [],
   "source": [
    "#Get a list of Zip Codes\n",
    "ZipCode = pd.read_csv(\"free-zipcode-database-Primary.csv\")\n",
    "ZipCode.head()\n",
    "ZipCode = ZipCode.sample(500)"
   ]
  },
  {
   "cell_type": "code",
   "execution_count": 224,
   "metadata": {
    "collapsed": false
   },
   "outputs": [
    {
     "data": {
      "text/plain": [
       "(10000, 5)"
      ]
     },
     "execution_count": 224,
     "metadata": {},
     "output_type": "execute_result"
    }
   ],
   "source": [
    "#Build a dataset\n",
    "\n",
    "ncustomer = 10000\n",
    "\n",
    "#Customers 1->n\n",
    "Customer = pd.DataFrame(list(range(0,ncustomer)), columns=[\"CustomerNumber\"])\n",
    "\n",
    "#Make half male\n",
    "Gender = np.random.randint(0,2, size=(ncustomer,1))\n",
    "Customer['Gender'] = Gender\n",
    "\n",
    "#Create ages distributed normally from 18 to max of 90 with a mean of 37.8, maybe a 15 year standard deviation\n",
    "Age = 4.8* np.random.randn(ncustomer,1) + 44\n",
    "Customer['Age'] = Age\n",
    "\n",
    "\n",
    "#print(Age)\n",
    "#print(Age.min(), Age.max())\n",
    "#sns.distplot(Age)\n",
    "\n",
    "\n",
    "#Get a random sample of zipcodes\n",
    "\n",
    "MyZip = np.array(ZipCode['Zipcode'].sample(ncustomer, replace = True))\n",
    "MyZip.shape = (ncustomer,1)\n",
    "Customer['ZipCode'] = MyZip\n",
    "\n",
    "#randomly create a number of flights for a customer from 1-250 flights\n",
    "TotalFlights=7 * np.random.randn(ncustomer, 1) + 4\n",
    "\n",
    "#Convert to integer for flight numbers (round)\n",
    "#Force negatives to 0\n",
    "TotalFlights[TotalFlights<0] = 0\n",
    "TotalFlights = TotalFlights.round().astype(int)\n",
    "TotalFlights[TotalFlights>30] = 0\n",
    "TotalFlights.shape = (ncustomer,1)\n",
    "Customer['TotalFlights']=TotalFlights\n",
    "\n",
    "Customer.head()\n",
    "Customer.shape\n",
    "\n",
    "\n"
   ]
  },
  {
   "cell_type": "code",
   "execution_count": 225,
   "metadata": {
    "collapsed": false
   },
   "outputs": [
    {
     "name": "stdout",
     "output_type": "stream",
     "text": [
      "       origin destination departure_date  flight_route_number  miles_flown  \\\n",
      "28688     BUR         LAS      5/31/2016                  172          223   \n",
      "110690    SMF         ONT      5/30/2016                  333          389   \n",
      "71297     TPA         HOU      5/24/2016                  594          781   \n",
      "22657     MDW         BNA      5/22/2016                  278          395   \n",
      "92966     SAN         MCI      5/26/2016                  486         1333   \n",
      "32823     MSP         MDW      5/19/2016                  218          349   \n",
      "101272    BNA         SAN      5/29/2016                  222         1751   \n",
      "2754      PHX         GEG       5/1/2016                   80         1020   \n",
      "24762     MDW         RDU      5/22/2016                  238          632   \n",
      "8308      STL         AUS      5/17/2016                  287          722   \n",
      "19707     STL         HOU       5/3/2016                  286          687   \n",
      "73750     STL         PHL      5/29/2016                  308          813   \n",
      "24917     MCO         PIT      5/17/2016                  217          834   \n",
      "3578      FLL         IND      5/12/2016                  499         1005   \n",
      "1949      ICT         PHX      5/17/2016                  195          870   \n",
      "51465     TPA         PHL       5/1/2016                  270          920   \n",
      "86096     PIT         RSW      5/11/2016                  218          966   \n",
      "59274     AUS         PHX      5/28/2016                  323          872   \n",
      "84643     BUR         SMF       5/1/2016                  157          358   \n",
      "38556     CMH         ATL       5/1/2016                   83          446   \n",
      "107790    SMF         SNA      5/25/2016                  344          404   \n",
      "89643     CMH         TPA      5/15/2016                  290          829   \n",
      "25188     BWI         CMH      5/25/2016                  165          336   \n",
      "71274     SAN         HOU       5/5/2016                  543         1312   \n",
      "48159     MSY         DCA       5/2/2016                  344          969   \n",
      "85956     FLL         TPA       5/1/2016                  461          197   \n",
      "4046      BWI         IND      5/26/2016                   50          515   \n",
      "62690     MDW         PHL       5/6/2016                  240          668   \n",
      "29841     DEN         ABQ      5/20/2016                  391          349   \n",
      "20306     PHL         TPA       5/3/2016                   13          920   \n",
      "...       ...         ...            ...                  ...          ...   \n",
      "59169     MDW         PVD       5/3/2016                  645          842   \n",
      "6352      BOS         AUS      5/13/2016                  463         1698   \n",
      "53710     LGA         MDW      5/30/2016                  233          725   \n",
      "43544     TUL         STL      5/29/2016                  308          351   \n",
      "104901    ATL         GSP      5/22/2016                  392          153   \n",
      "29710     STL         DEN      5/31/2016                  157          770   \n",
      "13740     LAS         OKC      5/26/2016                  101          987   \n",
      "60275     SAN         PHX      5/29/2016                   54          304   \n",
      "65615     DAL         SAT      5/22/2016                  218          248   \n",
      "83400     LAS         LAX      5/12/2016                   90          236   \n",
      "52980     MDW         LAS       5/7/2016                  329         1521   \n",
      "16484     SEA         SAN      5/20/2016                  235         1050   \n",
      "59934     BWI         BDL      5/18/2016                  618          283   \n",
      "61611     SMF         LAS      5/24/2016                  101          397   \n",
      "38431     MDW         LAS      5/12/2016                  564         1521   \n",
      "27478     MKE         LAX       5/5/2016                  251         1756   \n",
      "78258     SJU         FLL      5/20/2016                  518         1046   \n",
      "72249     IAD         ATL      5/30/2016                  400          533   \n",
      "82603     BWI         PVD      5/31/2016                  160          328   \n",
      "24799     MCO         CMH      5/14/2016                  388          802   \n",
      "108546    MDW         MCI      5/21/2016                  246          405   \n",
      "65433     CMH         MDW       5/4/2016                  610          284   \n",
      "30753     DAL         SFO      5/12/2016                  505         1476   \n",
      "65830     ATL         LAS       5/8/2016                  479         1747   \n",
      "69816     LAX         MDW       5/6/2016                  560         1750   \n",
      "102399    DAL         TUL      5/11/2016                  220          237   \n",
      "34132     MHT         MDW       5/4/2016                  560          838   \n",
      "111046    SMF         ONT       5/6/2016                  329          389   \n",
      "48770     MCO         DCA       5/7/2016                  481          759   \n",
      "98817     PVD         TPA      5/17/2016                  540         1137   \n",
      "\n",
      "        customer  \n",
      "28688          1  \n",
      "110690         1  \n",
      "71297          1  \n",
      "22657          1  \n",
      "92966          1  \n",
      "32823          1  \n",
      "101272         1  \n",
      "2754           1  \n",
      "24762          1  \n",
      "8308           1  \n",
      "19707          1  \n",
      "73750          1  \n",
      "24917          4  \n",
      "3578           4  \n",
      "1949           4  \n",
      "51465          4  \n",
      "86096          4  \n",
      "59274          4  \n",
      "84643          4  \n",
      "38556          4  \n",
      "107790         4  \n",
      "89643          4  \n",
      "25188          4  \n",
      "71274          4  \n",
      "48159          5  \n",
      "85956          5  \n",
      "4046           5  \n",
      "62690          5  \n",
      "29841          5  \n",
      "20306          5  \n",
      "...          ...  \n",
      "59169       9994  \n",
      "6352        9994  \n",
      "53710       9994  \n",
      "43544       9994  \n",
      "104901      9994  \n",
      "29710       9994  \n",
      "13740       9996  \n",
      "60275       9996  \n",
      "65615       9996  \n",
      "83400       9996  \n",
      "52980       9996  \n",
      "16484       9996  \n",
      "59934       9996  \n",
      "61611       9996  \n",
      "38431       9996  \n",
      "27478       9996  \n",
      "78258       9998  \n",
      "72249       9998  \n",
      "82603       9998  \n",
      "24799       9998  \n",
      "108546      9998  \n",
      "65433       9999  \n",
      "30753       9999  \n",
      "65830       9999  \n",
      "69816       9999  \n",
      "102399      9999  \n",
      "34132       9999  \n",
      "111046      9999  \n",
      "48770       9999  \n",
      "98817       9999  \n",
      "\n",
      "[52019 rows x 6 columns]\n"
     ]
    }
   ],
   "source": [
    "CustFlight = []\n",
    "\n",
    "#Loop through customers\n",
    "for cust in Customer['CustomerNumber']:\n",
    "    myflights = Customer['TotalFlights'][cust]\n",
    "\n",
    "    if myflights > 0:\n",
    "        #for each customer, select n random flights from the OnTime document\n",
    "        thiscustomerflights = OnTime.sample(n=myflights)\n",
    "        thiscustomerflights['customer'] = cust\n",
    "        CustFlight.append(thiscustomerflights)\n",
    "        #print(thiscustomerflights)\n",
    "\n",
    "\n",
    "    \n",
    "    #put into CustFlight\n",
    "\n",
    "CustFlight = pd.concat(CustFlight, axis=0)\n",
    "print(CustFlight)\n"
   ]
  },
  {
   "cell_type": "code",
   "execution_count": 226,
   "metadata": {
    "collapsed": false
   },
   "outputs": [
    {
     "name": "stdout",
     "output_type": "stream",
     "text": [
      "count    10000.000000\n",
      "mean        44.047723\n",
      "std          4.832818\n",
      "min         25.100032\n",
      "25%         40.715070\n",
      "50%         44.049755\n",
      "75%         47.327872\n",
      "max         63.341026\n",
      "Name: Age, dtype: float64\n"
     ]
    },
    {
     "data": {
      "text/plain": [
       "20"
      ]
     },
     "execution_count": 226,
     "metadata": {},
     "output_type": "execute_result"
    },
    {
     "data": {
      "image/png": "[encoded data removed]",
      "text/plain": [
       "<matplotlib.figure.Figure at 0x1131586d8>"
      ]
     },
     "metadata": {},
     "output_type": "display_data"
    }
   ],
   "source": [
    "print(Customer['Age'].describe())\n",
    "sns.distplot(Customer['Age'])\n",
    "sum(Customer['Age']<37)\n",
    "sum(Customer['Age']<30)\n",
    "\n"
   ]
  },
  {
   "cell_type": "code",
   "execution_count": 227,
   "metadata": {
    "collapsed": false
   },
   "outputs": [
    {
     "data": {
      "text/plain": [
       "5.2019000000000002"
      ]
     },
     "execution_count": 227,
     "metadata": {},
     "output_type": "execute_result"
    },
    {
     "data": {
      "image/png": "[encoded data removed]",
      "text/plain": [
       "<matplotlib.figure.Figure at 0x113afff98>"
      ]
     },
     "metadata": {},
     "output_type": "display_data"
    }
   ],
   "source": [
    "sns.distplot(TotalFlights)\n",
    "TotalFlights.mean()"
   ]
  },
  {
   "cell_type": "markdown",
   "metadata": {},
   "source": [
    "Quasi-Identifiers within this dataset include the intersection of Zip/Age/Gender.  Should we also include home airport as a quasi-idenitifer? This isn't necessarily a directly designated airport but it's the most frequent airport a flier goes to."
   ]
  },
  {
   "cell_type": "code",
   "execution_count": null,
   "metadata": {
    "collapsed": false
   },
   "outputs": [],
   "source": []
  },
  {
   "cell_type": "code",
   "execution_count": 228,
   "metadata": {
    "collapsed": false
   },
   "outputs": [],
   "source": [
    "#Does strong encryption of categorical variables allow for \n",
    "#a data digger to still backwards derive the flyer's identity?\n",
    "\n",
    "from Crypto import Random\n",
    "import base64\n",
    "\n",
    "#Make a unique list of airport codes \n",
    "\n",
    "AirportCode = pd.DataFrame(np.unique(CustFlight['origin']), columns=['Code'])\n",
    "#print(AirportCode)\n",
    "\n",
    "mykey = 'SMUMarchMadNeSsS'\n",
    "mykey = mykey.encode('UTF-8')\n",
    "\n",
    "#pad to a multiple of 16 using the mod function\n",
    "#teststring = bytes(teststring, ) + bytes(' '*(len(mykey)-len(teststring)%len(mykey)), 'UTF-8')\n",
    "\n",
    "#make an initialization vector for the encryption\n",
    "iv = Random.new().read(AES.block_size)\n",
    "\n",
    "cipher = AES.new(mykey, AES.MODE_CBC, IV=iv)\n",
    "\n",
    "#temp = cipher.encrypt(teststring)\n",
    "\n",
    "\n",
    "\n",
    "def EncryptIt(teststring):\n",
    "    teststring = bytes(teststring, 'UTF-8')\n",
    "    teststring = teststring + bytes(' '*(len(mykey)-len(teststring)%len(mykey)), 'UTF-8')\n",
    "    #print(teststring)\n",
    "    encryptedstring = iv + cipher.encrypt(teststring)\n",
    "    return (base64.b64encode(encryptedstring))\n",
    "\n",
    "AirportCode['Enc'] = AirportCode['Code'].apply(EncryptIt)\n",
    "\n",
    "AirportCode = pd.DataFrame(AirportCode)\n",
    "\n",
    "#AirportCode['Enc'] = AirportCode.apply(print(AirportCode['Code']), axis = 0)\n"
   ]
  },
  {
   "cell_type": "code",
   "execution_count": null,
   "metadata": {
    "collapsed": true
   },
   "outputs": [],
   "source": []
  },
  {
   "cell_type": "code",
   "execution_count": 233,
   "metadata": {
    "collapsed": false
   },
   "outputs": [
    {
     "name": "stdout",
     "output_type": "stream",
     "text": [
      "{'Enc': {'FLL': b'YQmXnc8gnjYKB/sORyXcukFRmJoeeWR1VSmv4ZIuZ3Y=', 'PHX': b'YQmXnc8gnjYKB/sORyXcukbl4vtYqooe9h9AVFXFKrM=', 'DSM': b'YQmXnc8gnjYKB/sORyXcuvvJ3Q0tslqSKFHi+xE8eCM=', 'MDW': b'YQmXnc8gnjYKB/sORyXcup1Yi693U/ZhIGEigXweYG4=', 'MAF': b'YQmXnc8gnjYKB/sORyXcuk/LNvTQTJZTuo21q+7pb/w=', 'SMF': b'YQmXnc8gnjYKB/sORyXcupCRBBQrQA8QeoA61/nleMI=', 'GSP': b'YQmXnc8gnjYKB/sORyXcus26RIHUEFP7lwOTdO9cZtU=', 'RSW': b'YQmXnc8gnjYKB/sORyXcuha3NGk45Blj3kv8y21cIh0=', 'MEM': b'YQmXnc8gnjYKB/sORyXcusCfo22dlH1Ws9zvaPM7CII=', 'CUN': b'YQmXnc8gnjYKB/sORyXcuuH5gsy/lFRynY6KtuAqvO8=', 'RDU': b'YQmXnc8gnjYKB/sORyXcunDc+YZ15mtIRw/m2mQsmq0=', 'CHS': b'YQmXnc8gnjYKB/sORyXcuvCvH1Is+HvEFBCu9N4CIO0=', 'PIT': b'YQmXnc8gnjYKB/sORyXcuhLixTsmDFTxEMCDtzKrE+o=', 'STL': b'YQmXnc8gnjYKB/sORyXcuoggbhCC/p2in4ILV3v8O6M=', 'PNS': b'YQmXnc8gnjYKB/sORyXcuj8DaDWgGUbQtBl+nfLEf7g=', 'SNA': b'YQmXnc8gnjYKB/sORyXculC9jRgMIYi5rekgRS0VKB8=', 'IAD': b'YQmXnc8gnjYKB/sORyXcuifIIboNZmpH+MSF7x4unLY=', 'CRP': b'YQmXnc8gnjYKB/sORyXcuq3aSK2lkwW8wz+YqEA9vXk=', 'DTW': b'YQmXnc8gnjYKB/sORyXcuqOUjy6/iW/Cg1sTafoSHCg=', 'SEA': b'YQmXnc8gnjYKB/sORyXcutczfwB/X/J9nmMEr/rl25M=', 'DEN': b'YQmXnc8gnjYKB/sORyXcuhrIO3O8x1rFB3YEgMcrWfc=', 'AMA': b'YQmXnc8gnjYKB/sORyXcur0Ri/14uQpEVo3ievYUBeA=', 'MEX': b'YQmXnc8gnjYKB/sORyXcuuM9G7dLHN7WLHtStlyErZY=', 'AUS': b'YQmXnc8gnjYKB/sORyXcuiCIVjheO6LpV3Y1fLl1jho=', 'BUF': b'YQmXnc8gnjYKB/sORyXcuvhwNctXpzmCNuIXy2tRPtU=', 'DCA': b'YQmXnc8gnjYKB/sORyXcuols2WOp9kcnn6mYbtchRDA=', 'CLT': b'YQmXnc8gnjYKB/sORyXcuuryOGBAdkQrERfTTbWsOgU=', 'BDL': b'YQmXnc8gnjYKB/sORyXcuoj5PUSPnEAOGCsmJtkcog0=', 'EWR': b'YQmXnc8gnjYKB/sORyXcujXQ8HBMxpqzccKvrLs4zY0=', 'CAK': b'YQmXnc8gnjYKB/sORyXcunoINogEuwx60Udkhnx61go=', 'MHT': b'YQmXnc8gnjYKB/sORyXcujnT0aAFiiVkWETBjpCruGE=', 'SAN': b'YQmXnc8gnjYKB/sORyXcuquDc1pqO2sZ/F2NWcQN7M4=', 'LAS': b'YQmXnc8gnjYKB/sORyXcugbEJaRa1JfJ/YKD4T7/K5o=', 'RIC': b'YQmXnc8gnjYKB/sORyXcugqsR2ccLP/xXR8Lo6MDc9Q=', 'LIR': b'YQmXnc8gnjYKB/sORyXcumcnkccNKZjEyqFMontB/KY=', 'SAT': b'YQmXnc8gnjYKB/sORyXcus7uPWL0uyajYy5P39rEd0A=', 'LAX': b'YQmXnc8gnjYKB/sORyXcuiAYQ1WC3/YwgDyxsD6nTHM=', 'ICT': b'YQmXnc8gnjYKB/sORyXcumKcKZMgEFn2MnawU4wXE9U=', 'PWM': b'YQmXnc8gnjYKB/sORyXcupVpkv4dFUM7pweeRe3yuRw=', 'SJD': b'YQmXnc8gnjYKB/sORyXcupUqdhsE03i+8npYcGumnc0=', 'LIT': b'YQmXnc8gnjYKB/sORyXcuooo5CgCey3QF8mA2OWWy2Y=', 'OMA': b'YQmXnc8gnjYKB/sORyXcuqLnwRfHGLgqmOt/RDVrUKE=', 'ATL': b'YQmXnc8gnjYKB/sORyXcuvzsE05T9Er8MlAaK7v2OS4=', 'DAL': b'YQmXnc8gnjYKB/sORyXcuhhAbtasV59waI39wbIemt4=', 'PBI': b'YQmXnc8gnjYKB/sORyXcuqkuqS2xdvmyzaZU/0UUaWg=', 'OKC': b'YQmXnc8gnjYKB/sORyXcuibFEDZpJhmAp5Fv36dezPM=', 'LGA': b'YQmXnc8gnjYKB/sORyXcuuCUkSNzrgaNjsWTIaDDd8o=', 'BZE': b'YQmXnc8gnjYKB/sORyXcujk3UlMQvJvGTu/8zN6Cu9w=', 'DAY': b'YQmXnc8gnjYKB/sORyXculOOirbaVTyqpIFs6mi9ccI=', 'LBB': b'YQmXnc8gnjYKB/sORyXcugSlmfXcJRWdpP3wJCKgZQc=', 'ALB': b'YQmXnc8gnjYKB/sORyXcuvJqqJfPAuO6KIU+4ugs3eY=', 'SJO': b'YQmXnc8gnjYKB/sORyXcuretBl5BXRRWoDtFVPZF8QM=', 'MCI': b'YQmXnc8gnjYKB/sORyXculFBrCivDWwpy6Iiq+Hyngo=', 'BOS': b'YQmXnc8gnjYKB/sORyXcugIvhDmPOmD74w5QSKI2ggU=', 'MBJ': b'YQmXnc8gnjYKB/sORyXcuonlcHY8hjVxPJMgth/bYIo=', 'JAX': b'YQmXnc8gnjYKB/sORyXcuitPgdp/ZuoLLt0tOW/yGNU=', 'BHM': b'YQmXnc8gnjYKB/sORyXcuqzhCDObGR/wiDwylLvcrNw=', 'SJC': b'YQmXnc8gnjYKB/sORyXcuhfLKVbDdZoBDwXJua6zXB4=', 'PDX': b'YQmXnc8gnjYKB/sORyXcuo/sUOKLNETJcT+Uxw5ToUI=', 'MKE': b'YQmXnc8gnjYKB/sORyXcuqEMx5rmpCwiI25xpSbY0I8=', 'TUS': b'YQmXnc8gnjYKB/sORyXcuij/fD3OGVtzWqqnemQ7/H8=', 'TPA': b'YQmXnc8gnjYKB/sORyXcutxC10QYqUTt6Vp2kW9cgVY=', 'SFO': b'YQmXnc8gnjYKB/sORyXcukrsndywcjC1fSIHmFQTMiQ=', 'MCO': b'YQmXnc8gnjYKB/sORyXcujODmjcWkc32sf/BJC6PFyA=', 'ORF': b'YQmXnc8gnjYKB/sORyXcuoUoJNwlxv2lVJqvtxVUcU8=', 'MSP': b'YQmXnc8gnjYKB/sORyXcuqnl6c8j031tlI31uYseOHA=', 'GEG': b'YQmXnc8gnjYKB/sORyXculnKKu0pNTV/NNnjNxDa8sw=', 'BNA': b'YQmXnc8gnjYKB/sORyXcujbAvXagJKcZRMnaewY5BUk=', 'MSY': b'YQmXnc8gnjYKB/sORyXcumYnj970falQiq+bXybxw8o=', 'HRL': b'YQmXnc8gnjYKB/sORyXcuoPoqBAZyOJu9rbn9UhY5vE=', 'NAS': b'YQmXnc8gnjYKB/sORyXcul8dz/q7V6QdYLvI5CwWxTY=', 'ELP': b'YQmXnc8gnjYKB/sORyXcui6WEQqoFb75T7BkMDfYfrE=', 'SLC': b'YQmXnc8gnjYKB/sORyXcuvGfHjZ9bhJeBu9IEIhniYo=', 'HOU': b'YQmXnc8gnjYKB/sORyXcuniS14z/xCusfJ8RZ7h5YE8=', 'RNO': b'YQmXnc8gnjYKB/sORyXcuioHmPMFBnzPpgquhImaBJU=', 'BOI': b'YQmXnc8gnjYKB/sORyXcugr1aFwpdXDmtNAjraw1Dlg=', 'AUA': b'YQmXnc8gnjYKB/sORyXcunmdbxAFdg0PLAD5l3+NI2Q=', 'CLE': b'YQmXnc8gnjYKB/sORyXcusBhRkoYKg7YVp1iedpMhcI=', 'ABQ': b'YQmXnc8gnjYKB/sORyXcuuTR32T65Ts8l0keqjzEods=', 'PUJ': b'YQmXnc8gnjYKB/sORyXcuqAvd/NI4btqn91jXBSL8io=', 'ECP': b'YQmXnc8gnjYKB/sORyXcur7kibHCvzfWCCxRRBgpqyY=', 'BUR': b'YQmXnc8gnjYKB/sORyXcuoCmY47orplU6XwFK3rkvE8=', 'BWI': b'YQmXnc8gnjYKB/sORyXcul5oKGPI1YaGheIiIC6uwDE=', 'ISP': b'YQmXnc8gnjYKB/sORyXcul+BkG97Ll01gZlXwbIlvao=', 'FNT': b'YQmXnc8gnjYKB/sORyXcumqkYjONTyCjW+D1ZorP+2Q=', 'PVD': b'YQmXnc8gnjYKB/sORyXcuvBKwEjQTSK3cHu499WjxDw=', 'CMH': b'YQmXnc8gnjYKB/sORyXcuppqc3X0X3WlPyYOm61pVJ0=', 'SJU': b'YQmXnc8gnjYKB/sORyXcupx96TKD+0H9/mp3iXFOdH0=', 'ONT': b'YQmXnc8gnjYKB/sORyXcuvZEYEmVnxNJLub/tmBakGo=', 'OAK': b'YQmXnc8gnjYKB/sORyXcus83BKXfUBael9JYqYeY+AE=', 'SDF': b'YQmXnc8gnjYKB/sORyXcukMRmdtg+HdVM2fFXV8pAD8=', 'PVR': b'YQmXnc8gnjYKB/sORyXcuo+oIpSHcDuAs5uwIDzqxXM=', 'TUL': b'YQmXnc8gnjYKB/sORyXcus76JzHlVoHfvvH3sgr8/84=', 'PHL': b'YQmXnc8gnjYKB/sORyXcumdH+g5XsmLLZtiURZKwU+U=', 'ROC': b'YQmXnc8gnjYKB/sORyXcuiy2RnaolsL0tEuw36DXjFA=', 'IND': b'YQmXnc8gnjYKB/sORyXcukT3oyRTY9vbgecl0lxfuR8=', 'GRR': b'YQmXnc8gnjYKB/sORyXcuuywAvxnSz7dIRv7nOtpilc='}}\n"
     ]
    }
   ],
   "source": [
    "print(AirportCodeDict)"
   ]
  },
  {
   "cell_type": "code",
   "execution_count": 229,
   "metadata": {
    "collapsed": false
   },
   "outputs": [
    {
     "name": "stdout",
     "output_type": "stream",
     "text": [
      "       origin destination departure_date  flight_route_number  miles_flown  \\\n",
      "28688     BUR         LAS      5/31/2016                  172          223   \n",
      "110690    SMF         ONT      5/30/2016                  333          389   \n",
      "71297     TPA         HOU      5/24/2016                  594          781   \n",
      "22657     MDW         BNA      5/22/2016                  278          395   \n",
      "92966     SAN         MCI      5/26/2016                  486         1333   \n",
      "32823     MSP         MDW      5/19/2016                  218          349   \n",
      "101272    BNA         SAN      5/29/2016                  222         1751   \n",
      "2754      PHX         GEG       5/1/2016                   80         1020   \n",
      "24762     MDW         RDU      5/22/2016                  238          632   \n",
      "8308      STL         AUS      5/17/2016                  287          722   \n",
      "19707     STL         HOU       5/3/2016                  286          687   \n",
      "73750     STL         PHL      5/29/2016                  308          813   \n",
      "24917     MCO         PIT      5/17/2016                  217          834   \n",
      "3578      FLL         IND      5/12/2016                  499         1005   \n",
      "1949      ICT         PHX      5/17/2016                  195          870   \n",
      "51465     TPA         PHL       5/1/2016                  270          920   \n",
      "86096     PIT         RSW      5/11/2016                  218          966   \n",
      "59274     AUS         PHX      5/28/2016                  323          872   \n",
      "84643     BUR         SMF       5/1/2016                  157          358   \n",
      "38556     CMH         ATL       5/1/2016                   83          446   \n",
      "107790    SMF         SNA      5/25/2016                  344          404   \n",
      "89643     CMH         TPA      5/15/2016                  290          829   \n",
      "25188     BWI         CMH      5/25/2016                  165          336   \n",
      "71274     SAN         HOU       5/5/2016                  543         1312   \n",
      "48159     MSY         DCA       5/2/2016                  344          969   \n",
      "85956     FLL         TPA       5/1/2016                  461          197   \n",
      "4046      BWI         IND      5/26/2016                   50          515   \n",
      "62690     MDW         PHL       5/6/2016                  240          668   \n",
      "29841     DEN         ABQ      5/20/2016                  391          349   \n",
      "20306     PHL         TPA       5/3/2016                   13          920   \n",
      "...       ...         ...            ...                  ...          ...   \n",
      "59169     MDW         PVD       5/3/2016                  645          842   \n",
      "6352      BOS         AUS      5/13/2016                  463         1698   \n",
      "53710     LGA         MDW      5/30/2016                  233          725   \n",
      "43544     TUL         STL      5/29/2016                  308          351   \n",
      "104901    ATL         GSP      5/22/2016                  392          153   \n",
      "29710     STL         DEN      5/31/2016                  157          770   \n",
      "13740     LAS         OKC      5/26/2016                  101          987   \n",
      "60275     SAN         PHX      5/29/2016                   54          304   \n",
      "65615     DAL         SAT      5/22/2016                  218          248   \n",
      "83400     LAS         LAX      5/12/2016                   90          236   \n",
      "52980     MDW         LAS       5/7/2016                  329         1521   \n",
      "16484     SEA         SAN      5/20/2016                  235         1050   \n",
      "59934     BWI         BDL      5/18/2016                  618          283   \n",
      "61611     SMF         LAS      5/24/2016                  101          397   \n",
      "38431     MDW         LAS      5/12/2016                  564         1521   \n",
      "27478     MKE         LAX       5/5/2016                  251         1756   \n",
      "78258     SJU         FLL      5/20/2016                  518         1046   \n",
      "72249     IAD         ATL      5/30/2016                  400          533   \n",
      "82603     BWI         PVD      5/31/2016                  160          328   \n",
      "24799     MCO         CMH      5/14/2016                  388          802   \n",
      "108546    MDW         MCI      5/21/2016                  246          405   \n",
      "65433     CMH         MDW       5/4/2016                  610          284   \n",
      "30753     DAL         SFO      5/12/2016                  505         1476   \n",
      "65830     ATL         LAS       5/8/2016                  479         1747   \n",
      "69816     LAX         MDW       5/6/2016                  560         1750   \n",
      "102399    DAL         TUL      5/11/2016                  220          237   \n",
      "34132     MHT         MDW       5/4/2016                  560          838   \n",
      "111046    SMF         ONT       5/6/2016                  329          389   \n",
      "48770     MCO         DCA       5/7/2016                  481          759   \n",
      "98817     PVD         TPA      5/17/2016                  540         1137   \n",
      "\n",
      "        customer  \n",
      "28688          1  \n",
      "110690         1  \n",
      "71297          1  \n",
      "22657          1  \n",
      "92966          1  \n",
      "32823          1  \n",
      "101272         1  \n",
      "2754           1  \n",
      "24762          1  \n",
      "8308           1  \n",
      "19707          1  \n",
      "73750          1  \n",
      "24917          4  \n",
      "3578           4  \n",
      "1949           4  \n",
      "51465          4  \n",
      "86096          4  \n",
      "59274          4  \n",
      "84643          4  \n",
      "38556          4  \n",
      "107790         4  \n",
      "89643          4  \n",
      "25188          4  \n",
      "71274          4  \n",
      "48159          5  \n",
      "85956          5  \n",
      "4046           5  \n",
      "62690          5  \n",
      "29841          5  \n",
      "20306          5  \n",
      "...          ...  \n",
      "59169       9994  \n",
      "6352        9994  \n",
      "53710       9994  \n",
      "43544       9994  \n",
      "104901      9994  \n",
      "29710       9994  \n",
      "13740       9996  \n",
      "60275       9996  \n",
      "65615       9996  \n",
      "83400       9996  \n",
      "52980       9996  \n",
      "16484       9996  \n",
      "59934       9996  \n",
      "61611       9996  \n",
      "38431       9996  \n",
      "27478       9996  \n",
      "78258       9998  \n",
      "72249       9998  \n",
      "82603       9998  \n",
      "24799       9998  \n",
      "108546      9998  \n",
      "65433       9999  \n",
      "30753       9999  \n",
      "65830       9999  \n",
      "69816       9999  \n",
      "102399      9999  \n",
      "34132       9999  \n",
      "111046      9999  \n",
      "48770       9999  \n",
      "98817       9999  \n",
      "\n",
      "[52019 rows x 6 columns]\n",
      "   Gender\n",
      "0       0\n",
      "1       1\n"
     ]
    },
    {
     "ename": "AttributeError",
     "evalue": "'function' object has no attribute 'apply'",
     "output_type": "error",
     "traceback": [
      "\u001b[0;31m---------------------------------------------------------------------------\u001b[0m",
      "\u001b[0;31mAttributeError\u001b[0m                            Traceback (most recent call last)",
      "\u001b[0;32m<ipython-input-229-4767fa996d9f>\u001b[0m in \u001b[0;36m<module>\u001b[0;34m()\u001b[0m\n\u001b[1;32m     13\u001b[0m \u001b[0;34m\u001b[0m\u001b[0m\n\u001b[1;32m     14\u001b[0m \u001b[0mprint\u001b[0m\u001b[0;34m(\u001b[0m\u001b[0mGenderKey\u001b[0m\u001b[0;34m)\u001b[0m\u001b[0;34m\u001b[0m\u001b[0m\n\u001b[0;32m---> 15\u001b[0;31m \u001b[0mGenderKey\u001b[0m\u001b[0;34m[\u001b[0m\u001b[0;34m'Enc'\u001b[0m\u001b[0;34m]\u001b[0m \u001b[0;34m=\u001b[0m \u001b[0mGenderKey\u001b[0m\u001b[0;34m[\u001b[0m\u001b[0;34m'Gender'\u001b[0m\u001b[0;34m]\u001b[0m\u001b[0;34m.\u001b[0m\u001b[0mto_string\u001b[0m\u001b[0;34m.\u001b[0m\u001b[0mapply\u001b[0m\u001b[0;34m(\u001b[0m\u001b[0mEncryptIt\u001b[0m\u001b[0;34m)\u001b[0m\u001b[0;34m\u001b[0m\u001b[0m\n\u001b[0m",
      "\u001b[0;31mAttributeError\u001b[0m: 'function' object has no attribute 'apply'"
     ]
    }
   ],
   "source": [
    "#Re-encode CustFlight with New origin/destination\n",
    "AirportCodeDict = AirportCode.set_index('Code').to_dict()\n",
    "#print(AirportCodeDict)\n",
    "\n",
    "CustFlight['origin'].replace(AirportCodeDict)\n",
    "CustFlight['destination'].replace(AirportCodeDict)\n",
    "\n",
    "print(CustFlight)\n",
    "\n",
    "GenderKey = pd.DataFrame(np.unique(Customer['Gender']), columns=['Gender'])\n",
    "\n",
    "#GenderKey['Gender'] = GenderKey['Code']\n",
    "\n",
    "print(GenderKey)\n",
    "GenderKey['Enc'] = GenderKey['Gender'].to_string.apply(EncryptIt)\n"
   ]
  },
  {
   "cell_type": "code",
   "execution_count": 237,
   "metadata": {
    "collapsed": false
   },
   "outputs": [
    {
     "name": "stdout",
     "output_type": "stream",
     "text": [
      "      origin destination departure_date  flight_route_number  miles_flown  \\\n",
      "0        BUR         LAS      5/31/2016                  172          223   \n",
      "1        SMF         ONT      5/30/2016                  333          389   \n",
      "2        TPA         HOU      5/24/2016                  594          781   \n",
      "3        MDW         BNA      5/22/2016                  278          395   \n",
      "4        SAN         MCI      5/26/2016                  486         1333   \n",
      "5        MSP         MDW      5/19/2016                  218          349   \n",
      "6        BNA         SAN      5/29/2016                  222         1751   \n",
      "7        PHX         GEG       5/1/2016                   80         1020   \n",
      "8        MDW         RDU      5/22/2016                  238          632   \n",
      "9        STL         AUS      5/17/2016                  287          722   \n",
      "10       STL         HOU       5/3/2016                  286          687   \n",
      "11       STL         PHL      5/29/2016                  308          813   \n",
      "12       MCO         PIT      5/17/2016                  217          834   \n",
      "13       FLL         IND      5/12/2016                  499         1005   \n",
      "14       ICT         PHX      5/17/2016                  195          870   \n",
      "15       TPA         PHL       5/1/2016                  270          920   \n",
      "16       PIT         RSW      5/11/2016                  218          966   \n",
      "17       AUS         PHX      5/28/2016                  323          872   \n",
      "18       BUR         SMF       5/1/2016                  157          358   \n",
      "19       CMH         ATL       5/1/2016                   83          446   \n",
      "20       SMF         SNA      5/25/2016                  344          404   \n",
      "21       CMH         TPA      5/15/2016                  290          829   \n",
      "22       BWI         CMH      5/25/2016                  165          336   \n",
      "23       SAN         HOU       5/5/2016                  543         1312   \n",
      "24       MSY         DCA       5/2/2016                  344          969   \n",
      "25       FLL         TPA       5/1/2016                  461          197   \n",
      "26       BWI         IND      5/26/2016                   50          515   \n",
      "27       MDW         PHL       5/6/2016                  240          668   \n",
      "28       DEN         ABQ      5/20/2016                  391          349   \n",
      "29       PHL         TPA       5/3/2016                   13          920   \n",
      "...      ...         ...            ...                  ...          ...   \n",
      "51989    MDW         PVD       5/3/2016                  645          842   \n",
      "51990    BOS         AUS      5/13/2016                  463         1698   \n",
      "51991    LGA         MDW      5/30/2016                  233          725   \n",
      "51992    TUL         STL      5/29/2016                  308          351   \n",
      "51993    ATL         GSP      5/22/2016                  392          153   \n",
      "51994    STL         DEN      5/31/2016                  157          770   \n",
      "51995    LAS         OKC      5/26/2016                  101          987   \n",
      "51996    SAN         PHX      5/29/2016                   54          304   \n",
      "51997    DAL         SAT      5/22/2016                  218          248   \n",
      "51998    LAS         LAX      5/12/2016                   90          236   \n",
      "51999    MDW         LAS       5/7/2016                  329         1521   \n",
      "52000    SEA         SAN      5/20/2016                  235         1050   \n",
      "52001    BWI         BDL      5/18/2016                  618          283   \n",
      "52002    SMF         LAS      5/24/2016                  101          397   \n",
      "52003    MDW         LAS      5/12/2016                  564         1521   \n",
      "52004    MKE         LAX       5/5/2016                  251         1756   \n",
      "52005    SJU         FLL      5/20/2016                  518         1046   \n",
      "52006    IAD         ATL      5/30/2016                  400          533   \n",
      "52007    BWI         PVD      5/31/2016                  160          328   \n",
      "52008    MCO         CMH      5/14/2016                  388          802   \n",
      "52009    MDW         MCI      5/21/2016                  246          405   \n",
      "52010    CMH         MDW       5/4/2016                  610          284   \n",
      "52011    DAL         SFO      5/12/2016                  505         1476   \n",
      "52012    ATL         LAS       5/8/2016                  479         1747   \n",
      "52013    LAX         MDW       5/6/2016                  560         1750   \n",
      "52014    DAL         TUL      5/11/2016                  220          237   \n",
      "52015    MHT         MDW       5/4/2016                  560          838   \n",
      "52016    SMF         ONT       5/6/2016                  329          389   \n",
      "52017    MCO         DCA       5/7/2016                  481          759   \n",
      "52018    PVD         TPA      5/17/2016                  540         1137   \n",
      "\n",
      "       customer  CustomerNumber  Gender        Age  ZipCode  TotalFlights  \n",
      "0             1               1       1  43.976312    50037            12  \n",
      "1             1               1       1  43.976312    50037            12  \n",
      "2             1               1       1  43.976312    50037            12  \n",
      "3             1               1       1  43.976312    50037            12  \n",
      "4             1               1       1  43.976312    50037            12  \n",
      "5             1               1       1  43.976312    50037            12  \n",
      "6             1               1       1  43.976312    50037            12  \n",
      "7             1               1       1  43.976312    50037            12  \n",
      "8             1               1       1  43.976312    50037            12  \n",
      "9             1               1       1  43.976312    50037            12  \n",
      "10            1               1       1  43.976312    50037            12  \n",
      "11            1               1       1  43.976312    50037            12  \n",
      "12            4               4       1  43.330487    28681            12  \n",
      "13            4               4       1  43.330487    28681            12  \n",
      "14            4               4       1  43.330487    28681            12  \n",
      "15            4               4       1  43.330487    28681            12  \n",
      "16            4               4       1  43.330487    28681            12  \n",
      "17            4               4       1  43.330487    28681            12  \n",
      "18            4               4       1  43.330487    28681            12  \n",
      "19            4               4       1  43.330487    28681            12  \n",
      "20            4               4       1  43.330487    28681            12  \n",
      "21            4               4       1  43.330487    28681            12  \n",
      "22            4               4       1  43.330487    28681            12  \n",
      "23            4               4       1  43.330487    28681            12  \n",
      "24            5               5       0  47.202642    64640            24  \n",
      "25            5               5       0  47.202642    64640            24  \n",
      "26            5               5       0  47.202642    64640            24  \n",
      "27            5               5       0  47.202642    64640            24  \n",
      "28            5               5       0  47.202642    64640            24  \n",
      "29            5               5       0  47.202642    64640            24  \n",
      "...         ...             ...     ...        ...      ...           ...  \n",
      "51989      9994            9994       1  43.309778    33045             9  \n",
      "51990      9994            9994       1  43.309778    33045             9  \n",
      "51991      9994            9994       1  43.309778    33045             9  \n",
      "51992      9994            9994       1  43.309778    33045             9  \n",
      "51993      9994            9994       1  43.309778    33045             9  \n",
      "51994      9994            9994       1  43.309778    33045             9  \n",
      "51995      9996            9996       1  44.644063    32784            10  \n",
      "51996      9996            9996       1  44.644063    32784            10  \n",
      "51997      9996            9996       1  44.644063    32784            10  \n",
      "51998      9996            9996       1  44.644063    32784            10  \n",
      "51999      9996            9996       1  44.644063    32784            10  \n",
      "52000      9996            9996       1  44.644063    32784            10  \n",
      "52001      9996            9996       1  44.644063    32784            10  \n",
      "52002      9996            9996       1  44.644063    32784            10  \n",
      "52003      9996            9996       1  44.644063    32784            10  \n",
      "52004      9996            9996       1  44.644063    32784            10  \n",
      "52005      9998            9998       1  43.858274    32730             5  \n",
      "52006      9998            9998       1  43.858274    32730             5  \n",
      "52007      9998            9998       1  43.858274    32730             5  \n",
      "52008      9998            9998       1  43.858274    32730             5  \n",
      "52009      9998            9998       1  43.858274    32730             5  \n",
      "52010      9999            9999       1  54.036721    42274             9  \n",
      "52011      9999            9999       1  54.036721    42274             9  \n",
      "52012      9999            9999       1  54.036721    42274             9  \n",
      "52013      9999            9999       1  54.036721    42274             9  \n",
      "52014      9999            9999       1  54.036721    42274             9  \n",
      "52015      9999            9999       1  54.036721    42274             9  \n",
      "52016      9999            9999       1  54.036721    42274             9  \n",
      "52017      9999            9999       1  54.036721    42274             9  \n",
      "52018      9999            9999       1  54.036721    42274             9  \n",
      "\n",
      "[52019 rows x 11 columns]\n"
     ]
    }
   ],
   "source": [
    "\n",
    "new_customers = CustFlight.merge(right = Customer, left_on = 'customer', right_on = 'CustomerNumber', how = 'left')\n",
    "\n",
    "print(new_customers)"
   ]
  },
  {
   "cell_type": "code",
   "execution_count": 246,
   "metadata": {
    "collapsed": false
   },
   "outputs": [
    {
     "data": {
      "text/plain": [
       "<matplotlib.axes._subplots.AxesSubplot at 0x1126f0940>"
      ]
     },
     "execution_count": 246,
     "metadata": {},
     "output_type": "execute_result"
    },
    {
     "data": {
      "image/png": "[encoded data removed]",
      "text/plain": [
       "<matplotlib.figure.Figure at 0x112efa4a8>"
      ]
     },
     "metadata": {},
     "output_type": "display_data"
    }
   ],
   "source": [
    "#Show scaling of the customer age\n",
    "from sklearn.preprocessing import scale, StandardScaler\n",
    "\n",
    "scl=StandardScaler()\n",
    "\n",
    "ScaledAge = scale(Customer['Age'])\n",
    "sns.distplot(Customer['Age'])\n"
   ]
  },
  {
   "cell_type": "code",
   "execution_count": 245,
   "metadata": {
    "collapsed": false
   },
   "outputs": [
    {
     "data": {
      "text/plain": [
       "<matplotlib.axes._subplots.AxesSubplot at 0x11394e2e8>"
      ]
     },
     "execution_count": 245,
     "metadata": {},
     "output_type": "execute_result"
    },
    {
     "data": {
      "image/png": "[encoded data removed]",
      "text/plain": [
       "<matplotlib.figure.Figure at 0x112edc3c8>"
      ]
     },
     "metadata": {},
     "output_type": "display_data"
    }
   ],
   "source": [
    "sns.distplot(ScaledAge)"
   ]
  },
  {
   "cell_type": "markdown",
   "metadata": {},
   "source": [
    "It appears that if we can maintain the mean, and standard deviation of a continuous variable as secret, then the statistical validity of any findings that we produce from the scaled data would still hold true.  It would certainly be reasonable to also back-convert the scaling to the non-normalized data if needed.\n",
    "\n",
    "Absent of the background knowledge of the distribution, an attacker would not be able to relate the actual age (or other continuous variable.  Underlying this information is confirmation that the median age, and the standard deviation of the data set's variable is signficantly different than the underlying population.  In this case, if our population of flyers had the same age distribution as the total US, then the assumption could not be met and the attacker could re-identify the subjects from background knowledge.\n",
    "\n",
    "Likewise, the dataset could be shifted in either direction by a specified value prior to normalization.  With the knowledge of the simp"
   ]
  },
  {
   "cell_type": "code",
   "execution_count": 16,
   "metadata": {
    "collapsed": false
   },
   "outputs": [],
   "source": [
    "# alex messing with code\n"
   ]
  },
  {
   "cell_type": "code",
   "execution_count": 112,
   "metadata": {
    "collapsed": false
   },
   "outputs": [
    {
     "ename": "FileNotFoundError",
     "evalue": "File b'Data/census-dist-male-first.csv' does not exist",
     "output_type": "error",
     "traceback": [
      "\u001b[0;31m---------------------------------------------------------------------------\u001b[0m",
      "\u001b[0;31mFileNotFoundError\u001b[0m                         Traceback (most recent call last)",
      "\u001b[0;32m<ipython-input-112-27c773518a46>\u001b[0m in \u001b[0;36m<module>\u001b[0;34m()\u001b[0m\n\u001b[1;32m      1\u001b[0m \u001b[0;31m# read in names\u001b[0m\u001b[0;34m\u001b[0m\u001b[0;34m\u001b[0m\u001b[0m\n\u001b[1;32m      2\u001b[0m \u001b[0;34m\u001b[0m\u001b[0m\n\u001b[0;32m----> 3\u001b[0;31m \u001b[0mmale_first_names\u001b[0m \u001b[0;34m=\u001b[0m \u001b[0mpd\u001b[0m\u001b[0;34m.\u001b[0m\u001b[0mread_csv\u001b[0m\u001b[0;34m(\u001b[0m\u001b[0;34m'Data/census-dist-male-first.csv'\u001b[0m\u001b[0;34m)\u001b[0m\u001b[0;34m\u001b[0m\u001b[0m\n\u001b[0m\u001b[1;32m      4\u001b[0m \u001b[0;34m\u001b[0m\u001b[0m\n\u001b[1;32m      5\u001b[0m \u001b[0mfemale_first_names\u001b[0m \u001b[0;34m=\u001b[0m \u001b[0mpd\u001b[0m\u001b[0;34m.\u001b[0m\u001b[0mread_csv\u001b[0m\u001b[0;34m(\u001b[0m\u001b[0;34m'Data/census-dist-female-first.csv'\u001b[0m\u001b[0;34m)\u001b[0m\u001b[0;34m\u001b[0m\u001b[0m\n",
      "\u001b[0;32m//anaconda/lib/python3.5/site-packages/pandas/io/parsers.py\u001b[0m in \u001b[0;36mparser_f\u001b[0;34m(filepath_or_buffer, sep, delimiter, header, names, index_col, usecols, squeeze, prefix, mangle_dupe_cols, dtype, engine, converters, true_values, false_values, skipinitialspace, skiprows, nrows, na_values, keep_default_na, na_filter, verbose, skip_blank_lines, parse_dates, infer_datetime_format, keep_date_col, date_parser, dayfirst, iterator, chunksize, compression, thousands, decimal, lineterminator, quotechar, quoting, escapechar, comment, encoding, dialect, tupleize_cols, error_bad_lines, warn_bad_lines, skipfooter, skip_footer, doublequote, delim_whitespace, as_recarray, compact_ints, use_unsigned, low_memory, buffer_lines, memory_map, float_precision)\u001b[0m\n\u001b[1;32m    644\u001b[0m                     skip_blank_lines=skip_blank_lines)\n\u001b[1;32m    645\u001b[0m \u001b[0;34m\u001b[0m\u001b[0m\n\u001b[0;32m--> 646\u001b[0;31m         \u001b[0;32mreturn\u001b[0m \u001b[0m_read\u001b[0m\u001b[0;34m(\u001b[0m\u001b[0mfilepath_or_buffer\u001b[0m\u001b[0;34m,\u001b[0m \u001b[0mkwds\u001b[0m\u001b[0;34m)\u001b[0m\u001b[0;34m\u001b[0m\u001b[0m\n\u001b[0m\u001b[1;32m    647\u001b[0m \u001b[0;34m\u001b[0m\u001b[0m\n\u001b[1;32m    648\u001b[0m     \u001b[0mparser_f\u001b[0m\u001b[0;34m.\u001b[0m\u001b[0m__name__\u001b[0m \u001b[0;34m=\u001b[0m \u001b[0mname\u001b[0m\u001b[0;34m\u001b[0m\u001b[0m\n",
      "\u001b[0;32m//anaconda/lib/python3.5/site-packages/pandas/io/parsers.py\u001b[0m in \u001b[0;36m_read\u001b[0;34m(filepath_or_buffer, kwds)\u001b[0m\n\u001b[1;32m    387\u001b[0m \u001b[0;34m\u001b[0m\u001b[0m\n\u001b[1;32m    388\u001b[0m     \u001b[0;31m# Create the parser.\u001b[0m\u001b[0;34m\u001b[0m\u001b[0;34m\u001b[0m\u001b[0m\n\u001b[0;32m--> 389\u001b[0;31m     \u001b[0mparser\u001b[0m \u001b[0;34m=\u001b[0m \u001b[0mTextFileReader\u001b[0m\u001b[0;34m(\u001b[0m\u001b[0mfilepath_or_buffer\u001b[0m\u001b[0;34m,\u001b[0m \u001b[0;34m**\u001b[0m\u001b[0mkwds\u001b[0m\u001b[0;34m)\u001b[0m\u001b[0;34m\u001b[0m\u001b[0m\n\u001b[0m\u001b[1;32m    390\u001b[0m \u001b[0;34m\u001b[0m\u001b[0m\n\u001b[1;32m    391\u001b[0m     \u001b[0;32mif\u001b[0m \u001b[0;34m(\u001b[0m\u001b[0mnrows\u001b[0m \u001b[0;32mis\u001b[0m \u001b[0;32mnot\u001b[0m \u001b[0;32mNone\u001b[0m\u001b[0;34m)\u001b[0m \u001b[0;32mand\u001b[0m \u001b[0;34m(\u001b[0m\u001b[0mchunksize\u001b[0m \u001b[0;32mis\u001b[0m \u001b[0;32mnot\u001b[0m \u001b[0;32mNone\u001b[0m\u001b[0;34m)\u001b[0m\u001b[0;34m:\u001b[0m\u001b[0;34m\u001b[0m\u001b[0m\n",
      "\u001b[0;32m//anaconda/lib/python3.5/site-packages/pandas/io/parsers.py\u001b[0m in \u001b[0;36m__init__\u001b[0;34m(self, f, engine, **kwds)\u001b[0m\n\u001b[1;32m    728\u001b[0m             \u001b[0mself\u001b[0m\u001b[0;34m.\u001b[0m\u001b[0moptions\u001b[0m\u001b[0;34m[\u001b[0m\u001b[0;34m'has_index_names'\u001b[0m\u001b[0;34m]\u001b[0m \u001b[0;34m=\u001b[0m \u001b[0mkwds\u001b[0m\u001b[0;34m[\u001b[0m\u001b[0;34m'has_index_names'\u001b[0m\u001b[0;34m]\u001b[0m\u001b[0;34m\u001b[0m\u001b[0m\n\u001b[1;32m    729\u001b[0m \u001b[0;34m\u001b[0m\u001b[0m\n\u001b[0;32m--> 730\u001b[0;31m         \u001b[0mself\u001b[0m\u001b[0;34m.\u001b[0m\u001b[0m_make_engine\u001b[0m\u001b[0;34m(\u001b[0m\u001b[0mself\u001b[0m\u001b[0;34m.\u001b[0m\u001b[0mengine\u001b[0m\u001b[0;34m)\u001b[0m\u001b[0;34m\u001b[0m\u001b[0m\n\u001b[0m\u001b[1;32m    731\u001b[0m \u001b[0;34m\u001b[0m\u001b[0m\n\u001b[1;32m    732\u001b[0m     \u001b[0;32mdef\u001b[0m \u001b[0mclose\u001b[0m\u001b[0;34m(\u001b[0m\u001b[0mself\u001b[0m\u001b[0;34m)\u001b[0m\u001b[0;34m:\u001b[0m\u001b[0;34m\u001b[0m\u001b[0m\n",
      "\u001b[0;32m//anaconda/lib/python3.5/site-packages/pandas/io/parsers.py\u001b[0m in \u001b[0;36m_make_engine\u001b[0;34m(self, engine)\u001b[0m\n\u001b[1;32m    921\u001b[0m     \u001b[0;32mdef\u001b[0m \u001b[0m_make_engine\u001b[0m\u001b[0;34m(\u001b[0m\u001b[0mself\u001b[0m\u001b[0;34m,\u001b[0m \u001b[0mengine\u001b[0m\u001b[0;34m=\u001b[0m\u001b[0;34m'c'\u001b[0m\u001b[0;34m)\u001b[0m\u001b[0;34m:\u001b[0m\u001b[0;34m\u001b[0m\u001b[0m\n\u001b[1;32m    922\u001b[0m         \u001b[0;32mif\u001b[0m \u001b[0mengine\u001b[0m \u001b[0;34m==\u001b[0m \u001b[0;34m'c'\u001b[0m\u001b[0;34m:\u001b[0m\u001b[0;34m\u001b[0m\u001b[0m\n\u001b[0;32m--> 923\u001b[0;31m             \u001b[0mself\u001b[0m\u001b[0;34m.\u001b[0m\u001b[0m_engine\u001b[0m \u001b[0;34m=\u001b[0m \u001b[0mCParserWrapper\u001b[0m\u001b[0;34m(\u001b[0m\u001b[0mself\u001b[0m\u001b[0;34m.\u001b[0m\u001b[0mf\u001b[0m\u001b[0;34m,\u001b[0m \u001b[0;34m**\u001b[0m\u001b[0mself\u001b[0m\u001b[0;34m.\u001b[0m\u001b[0moptions\u001b[0m\u001b[0;34m)\u001b[0m\u001b[0;34m\u001b[0m\u001b[0m\n\u001b[0m\u001b[1;32m    924\u001b[0m         \u001b[0;32melse\u001b[0m\u001b[0;34m:\u001b[0m\u001b[0;34m\u001b[0m\u001b[0m\n\u001b[1;32m    925\u001b[0m             \u001b[0;32mif\u001b[0m \u001b[0mengine\u001b[0m \u001b[0;34m==\u001b[0m \u001b[0;34m'python'\u001b[0m\u001b[0;34m:\u001b[0m\u001b[0;34m\u001b[0m\u001b[0m\n",
      "\u001b[0;32m//anaconda/lib/python3.5/site-packages/pandas/io/parsers.py\u001b[0m in \u001b[0;36m__init__\u001b[0;34m(self, src, **kwds)\u001b[0m\n\u001b[1;32m   1388\u001b[0m         \u001b[0mkwds\u001b[0m\u001b[0;34m[\u001b[0m\u001b[0;34m'allow_leading_cols'\u001b[0m\u001b[0;34m]\u001b[0m \u001b[0;34m=\u001b[0m \u001b[0mself\u001b[0m\u001b[0;34m.\u001b[0m\u001b[0mindex_col\u001b[0m \u001b[0;32mis\u001b[0m \u001b[0;32mnot\u001b[0m \u001b[0;32mFalse\u001b[0m\u001b[0;34m\u001b[0m\u001b[0m\n\u001b[1;32m   1389\u001b[0m \u001b[0;34m\u001b[0m\u001b[0m\n\u001b[0;32m-> 1390\u001b[0;31m         \u001b[0mself\u001b[0m\u001b[0;34m.\u001b[0m\u001b[0m_reader\u001b[0m \u001b[0;34m=\u001b[0m \u001b[0m_parser\u001b[0m\u001b[0;34m.\u001b[0m\u001b[0mTextReader\u001b[0m\u001b[0;34m(\u001b[0m\u001b[0msrc\u001b[0m\u001b[0;34m,\u001b[0m \u001b[0;34m**\u001b[0m\u001b[0mkwds\u001b[0m\u001b[0;34m)\u001b[0m\u001b[0;34m\u001b[0m\u001b[0m\n\u001b[0m\u001b[1;32m   1391\u001b[0m \u001b[0;34m\u001b[0m\u001b[0m\n\u001b[1;32m   1392\u001b[0m         \u001b[0;31m# XXX\u001b[0m\u001b[0;34m\u001b[0m\u001b[0;34m\u001b[0m\u001b[0m\n",
      "\u001b[0;32mpandas/parser.pyx\u001b[0m in \u001b[0;36mpandas.parser.TextReader.__cinit__ (pandas/parser.c:4184)\u001b[0;34m()\u001b[0m\n",
      "\u001b[0;32mpandas/parser.pyx\u001b[0m in \u001b[0;36mpandas.parser.TextReader._setup_parser_source (pandas/parser.c:8449)\u001b[0;34m()\u001b[0m\n",
      "\u001b[0;31mFileNotFoundError\u001b[0m: File b'Data/census-dist-male-first.csv' does not exist"
     ]
    }
   ],
   "source": [
    "# read in names\n",
    "\n",
    "male_first_names = pd.read_csv('Data/census-dist-male-first.csv')\n",
    "\n",
    "female_first_names = pd.read_csv('Data/census-dist-female-first.csv')\n",
    "\n",
    "last_names = pd.read_csv('Data/dist.all.last.csv')\n",
    "\n",
    "print(male_first_names.head(), female_first_names.head(), last_names.head())\n",
    "\n",
    "\n"
   ]
  },
  {
   "cell_type": "code",
   "execution_count": null,
   "metadata": {
    "collapsed": false
   },
   "outputs": [],
   "source": []
  },
  {
   "cell_type": "code",
   "execution_count": null,
   "metadata": {
    "collapsed": false
   },
   "outputs": [],
   "source": [
    "\n",
    "\n"
   ]
  },
  {
   "cell_type": "code",
   "execution_count": null,
   "metadata": {
    "collapsed": false
   },
   "outputs": [],
   "source": []
  },
  {
   "cell_type": "code",
   "execution_count": 111,
   "metadata": {
    "collapsed": false
   },
   "outputs": [
    {
     "ename": "NameError",
     "evalue": "name 'female_first_names' is not defined",
     "output_type": "error",
     "traceback": [
      "\u001b[0;31m---------------------------------------------------------------------------\u001b[0m",
      "\u001b[0;31mNameError\u001b[0m                                 Traceback (most recent call last)",
      "\u001b[0;32m<ipython-input-111-08aa9ed9a0e8>\u001b[0m in \u001b[0;36m<module>\u001b[0;34m()\u001b[0m\n\u001b[1;32m      5\u001b[0m         \u001b[0mCustomer\u001b[0m\u001b[0;34m[\u001b[0m\u001b[0;34m'first_name'\u001b[0m\u001b[0;34m]\u001b[0m \u001b[0;34m=\u001b[0m \u001b[0mmale_first_names\u001b[0m\u001b[0;34m[\u001b[0m\u001b[0;34m'name'\u001b[0m\u001b[0;34m]\u001b[0m\u001b[0;34m.\u001b[0m\u001b[0msample\u001b[0m\u001b[0;34m(\u001b[0m\u001b[0mn\u001b[0m\u001b[0;34m=\u001b[0m \u001b[0;36m1\u001b[0m\u001b[0;34m)\u001b[0m\u001b[0;34m\u001b[0m\u001b[0m\n\u001b[1;32m      6\u001b[0m     \u001b[0;32melse\u001b[0m\u001b[0;34m:\u001b[0m\u001b[0;34m\u001b[0m\u001b[0m\n\u001b[0;32m----> 7\u001b[0;31m         \u001b[0mCustomer\u001b[0m\u001b[0;34m[\u001b[0m\u001b[0;34m'first_name'\u001b[0m\u001b[0;34m]\u001b[0m \u001b[0;34m=\u001b[0m \u001b[0mfemale_first_names\u001b[0m\u001b[0;34m[\u001b[0m\u001b[0;34m'name'\u001b[0m\u001b[0;34m]\u001b[0m\u001b[0;34m.\u001b[0m\u001b[0msample\u001b[0m\u001b[0;34m(\u001b[0m\u001b[0mn\u001b[0m\u001b[0;34m=\u001b[0m\u001b[0;36m1\u001b[0m\u001b[0;34m)\u001b[0m\u001b[0;34m\u001b[0m\u001b[0m\n\u001b[0m\u001b[1;32m      8\u001b[0m \u001b[0;34m\u001b[0m\u001b[0m\n\u001b[1;32m      9\u001b[0m \u001b[0;34m\u001b[0m\u001b[0m\n",
      "\u001b[0;31mNameError\u001b[0m: name 'female_first_names' is not defined"
     ]
    }
   ],
   "source": [
    "# create names -THIS DOESNT WORK...NOT SURE WHY\n",
    "\n",
    "for person in Customer['CustomerNumber']:\n",
    "    if (Customer['Gender']==1).bool == True:\n",
    "        Customer['first_name'] = male_first_names['name'].sample(n= 1)\n",
    "    else:\n",
    "        Customer['first_name'] = female_first_names['name'].sample(n=1)\n",
    "        \n",
    "\n"
   ]
  },
  {
   "cell_type": "code",
   "execution_count": 95,
   "metadata": {
    "collapsed": false
   },
   "outputs": [],
   "source": [
    "for person in Customer['CustomerNumber']:\n",
    "        Customer['first_name'] = male_first_names['name'].sample(n= 1)\n",
    "   "
   ]
  },
  {
   "cell_type": "code",
   "execution_count": null,
   "metadata": {
    "collapsed": true
   },
   "outputs": [],
   "source": [
    "#With or Without encryption can we demonstrate l-diversity, k-anononymous, and t-closeness of the slices?\n",
    "#Or demonstrate what the odds of reidentification are for a flyer?"
   ]
  },
  {
   "cell_type": "code",
   "execution_count": 96,
   "metadata": {
    "collapsed": false
   },
   "outputs": [
    {
     "data": {
      "text/plain": [
       "0    NaN\n",
       "1    NaN\n",
       "2    NaN\n",
       "3    NaN\n",
       "4    NaN\n",
       "Name: first_name, dtype: object"
      ]
     },
     "execution_count": 96,
     "metadata": {},
     "output_type": "execute_result"
    }
   ],
   "source": []
  },
  {
   "cell_type": "code",
   "execution_count": null,
   "metadata": {
    "collapsed": true
   },
   "outputs": [],
   "source": [
    "#How can we avoid reidentification of a flyer based on background knowledge?"
   ]
  }
 ],
 "metadata": {
  "anaconda-cloud": {},
  "kernelspec": {
   "display_name": "Python [default]",
   "language": "python",
   "name": "python3"
  },
  "language_info": {
   "codemirror_mode": {
    "name": "ipython",
    "version": 3
   },
   "file_extension": ".py",
   "mimetype": "text/x-python",
   "name": "python",
   "nbconvert_exporter": "python",
   "pygments_lexer": "ipython3",
   "version": "3.5.3"
  }
 },
 "nbformat": 4,
 "nbformat_minor": 2
}
