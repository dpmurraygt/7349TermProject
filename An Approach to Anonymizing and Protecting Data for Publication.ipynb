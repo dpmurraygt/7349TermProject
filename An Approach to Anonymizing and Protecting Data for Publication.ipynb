{
 "cells": [
  {
   "cell_type": "markdown",
   "metadata": {},
   "source": [
    "In our case, the dataset will be a subset of an airline's customer database.  The data contains information from the customer file, combined with information from the records of flights that each customer has taken.  "
   ]
  },
  {
   "cell_type": "markdown",
   "metadata": {},
   "source": [
    "Identifiers Contained in the Data\n",
    "\n",
    "The original data set contains each customer's frequent flier account number, as well as name, date of birth, passport number (if known by the airline) and home address.  The fields for any direct identifiers will be not be extracted from the database, but the customer's calculated age, home zip code, and gender will be extracted from the database.\n",
    "\n",
    "For each flight, the flight number, origin and destination codes, mileage, date and departure time will be included for each passenger in the subset.\n",
    "\n",
    "The airline has also declared that the records of any minors be excluded from the data extraction to protect the most sensitive passengers.  \n",
    "\n",
    "The stated objective of the release of data is for review of the data for improvements in the times and routes covered, but leaving open the possibility of additional findings by trying to show the data as deep as possible."
   ]
  },
  {
   "cell_type": "code",
   "execution_count": 25,
   "metadata": {
    "collapsed": false
   },
   "outputs": [],
   "source": [
    "# import packages\n",
    "\n",
    "import pandas as pd \n",
    "import seaborn as sns\n",
    "import numpy as np\n",
    "import matplotlib.pyplot as plt\n",
    "import scipy.stats \n",
    "import sklearn as sk\n",
    "import statsmodels.api as sm\n",
    "#import statsmodels.formula.api as smf\n",
    "from statsmodels.stats.outliers_influence import variance_inflation_factor\n",
    "\n",
    "from pandas.tools.plotting import scatter_plot\n",
    "from pandas.tools.plotting import scatter_matrix\n",
    "\n",
    "from sklearn.preprocessing import scale, StandardScaler\n",
    "from sklearn import preprocessing, cross_validation, svm\n",
    "from sklearn.linear_model import LinearRegression, Lasso, Lars, SGDRegressor\n",
    "\n",
    "from sklearn.decomposition import PCA \n",
    "from sklearn.cluster import KMeans\n",
    "from sklearn.neighbors import KNeighborsRegressor\n",
    "from sklearn.pipeline import Pipeline\n",
    "from sklearn.neighbors import KNeighborsClassifier\n",
    "from sklearn.model_selection import StratifiedKFold\n",
    "from sklearn.preprocessing import StandardScaler\n",
    "import numpy as np\n",
    "from sklearn import metrics as mt\n",
    "from Crypto.Cipher import AES\n",
    "\n",
    "import random\n",
    "\n",
    "\n",
    "#import locale\n",
    "#locale.setlocale( locale.LC_ALL, 'en_US.UTF-8' ) \n",
    "\n",
    "from pandas.tools.plotting import scatter_matrix\n",
    "\n",
    "from sklearn.svm import SVR\n",
    "from sklearn.feature_selection import RFE, RFECV\n",
    "\n",
    "from sklearn.decomposition import PCA \n",
    "from sklearn.pipeline import Pipeline\n",
    "\n",
    "#configure the random seed so we our randomness is reproducible for selection of learn/test sets\n",
    "np.random.seed(0)\n",
    "\n",
    "%matplotlib inline"
   ]
  },
  {
   "cell_type": "code",
   "execution_count": 15,
   "metadata": {
    "collapsed": true
   },
   "outputs": [],
   "source": [
    "#Data gathering "
   ]
  },
  {
   "cell_type": "code",
   "execution_count": 16,
   "metadata": {
    "collapsed": false
   },
   "outputs": [],
   "source": [
    "#Use the flight data from our other project\n",
    "OnTime = pd.read_csv(\"Data/20170112_DataMiningI_TestDataSet_EXP_DS.csv\")\n",
    "OnTime = OnTime.loc[OnTime['flight_type_code']!= 'X']\n",
    "OnTime['route_sequence_number'] = OnTime['route_sequence_number']/100000000\n",
    "#Create indicator for ontime performance, where 1 = OnTime and 0 = LATE\n",
    "OnTime['OnTimeIndicator'] = np.where(OnTime['dot_delay_mins']>=15, 0, 1)\n",
    "#Need some Time of Day buckets\n",
    "OnTime['TimeBucket']=pd.cut(OnTime['local_scheduled_dep_time'],[0, 600, 700, 1200, 2000, 2200,2800],6, \n",
    "       labels=[\"deep_shoulder_am\", \"shoulder_am\", \"am_meat\", \"pm_meat\", \"shoulder_pm\",\"deep_shoulder_pm\"])\n",
    "#Need an \"International\" code\n",
    "OnTime['International'] = np.where(OnTime['origin_country']!=OnTime['destination_country'], 1, 0)\n",
    "del OnTime['flt_attendant_change_ind']\n",
    "OnTime['Originator_ind'] = np.where(OnTime['route_sequence_number']== 1.0,1,0)\n",
    "OnTime['D_zero_ind'] = np.where(OnTime['push_delay_mins']== 0,1,0)\n",
    "\n",
    "\n",
    "OnTime = OnTime.ix[:,['origin', 'destination', 'departure_date', 'flight_route_number']]"
   ]
  },
  {
   "cell_type": "code",
   "execution_count": 17,
   "metadata": {
    "collapsed": false
   },
   "outputs": [
    {
     "data": {
      "text/plain": [
       "Index(['origin', 'destination', 'departure_date', 'flight_route_number'], dtype='object')"
      ]
     },
     "execution_count": 17,
     "metadata": {},
     "output_type": "execute_result"
    }
   ],
   "source": [
    "OnTime.columns"
   ]
  },
  {
   "cell_type": "code",
   "execution_count": 18,
   "metadata": {
    "collapsed": false
   },
   "outputs": [],
   "source": [
    "#Get a list of Zip Codes\n",
    "ZipCode = pd.read_csv(\"free-zipcode-database-Primary.csv\")\n",
    "ZipCode.head()\n",
    "ZipCode = ZipCode.sample(500)"
   ]
  },
  {
   "cell_type": "code",
   "execution_count": 19,
   "metadata": {
    "collapsed": false
   },
   "outputs": [
    {
     "data": {
      "text/plain": [
       "(10000, 5)"
      ]
     },
     "execution_count": 19,
     "metadata": {},
     "output_type": "execute_result"
    }
   ],
   "source": [
    "#Build a dataset\n",
    "\n",
    "ncustomer = 10000\n",
    "\n",
    "#Customers 1->n\n",
    "Customer = pd.DataFrame(list(range(0,ncustomer)), columns=[\"CustomerNumber\"])\n",
    "\n",
    "#Make half male\n",
    "Gender = np.random.randint(0,2, size=(ncustomer,1))\n",
    "Customer['Gender'] = Gender\n",
    "\n",
    "#Create ages distributed normally from 18 to max of 90 with a mean of 37.8, maybe a 15 year standard deviation\n",
    "Age = 4.8* np.random.randn(ncustomer,1) + 44\n",
    "Customer['Age'] = Age\n",
    "\n",
    "\n",
    "#print(Age)\n",
    "#print(Age.min(), Age.max())\n",
    "#sns.distplot(Age)\n",
    "\n",
    "\n",
    "#Get a random sample of zipcodes\n",
    "\n",
    "MyZip = np.array(ZipCode['Zipcode'].sample(ncustomer, replace = True))\n",
    "MyZip.shape = (ncustomer,1)\n",
    "Customer['ZipCode'] = MyZip\n",
    "\n",
    "#randomly create a number of flights for a customer from 1-250 flights\n",
    "TotalFlights=7 * np.random.randn(ncustomer, 1) + 4\n",
    "\n",
    "#Convert to integer for flight numbers (round)\n",
    "#Force negatives to 0\n",
    "TotalFlights[TotalFlights<0] = 0\n",
    "TotalFlights = TotalFlights.round().astype(int)\n",
    "TotalFlights[TotalFlights>30] = 0\n",
    "TotalFlights.shape = (ncustomer,1)\n",
    "Customer['TotalFlights']=TotalFlights\n",
    "\n",
    "Customer.head()\n",
    "Customer.shape\n",
    "\n",
    "\n"
   ]
  },
  {
   "cell_type": "code",
   "execution_count": 20,
   "metadata": {
    "collapsed": false
   },
   "outputs": [
    {
     "name": "stdout",
     "output_type": "stream",
     "text": [
      "       origin destination departure_date  flight_route_number  customer\n",
      "28688     BUR         LAS      5/31/2016                  172         1\n",
      "110690    SMF         ONT      5/30/2016                  333         1\n",
      "71297     TPA         HOU      5/24/2016                  594         1\n",
      "22657     MDW         BNA      5/22/2016                  278         1\n",
      "92966     SAN         MCI      5/26/2016                  486         1\n",
      "32823     MSP         MDW      5/19/2016                  218         1\n",
      "101272    BNA         SAN      5/29/2016                  222         1\n",
      "2754      PHX         GEG       5/1/2016                   80         1\n",
      "24762     MDW         RDU      5/22/2016                  238         1\n",
      "8308      STL         AUS      5/17/2016                  287         1\n",
      "19707     STL         HOU       5/3/2016                  286         1\n",
      "73750     STL         PHL      5/29/2016                  308         1\n",
      "24917     MCO         PIT      5/17/2016                  217         4\n",
      "3578      FLL         IND      5/12/2016                  499         4\n",
      "1949      ICT         PHX      5/17/2016                  195         4\n",
      "51465     TPA         PHL       5/1/2016                  270         4\n",
      "86096     PIT         RSW      5/11/2016                  218         4\n",
      "59274     AUS         PHX      5/28/2016                  323         4\n",
      "84643     BUR         SMF       5/1/2016                  157         4\n",
      "38556     CMH         ATL       5/1/2016                   83         4\n",
      "107790    SMF         SNA      5/25/2016                  344         4\n",
      "89643     CMH         TPA      5/15/2016                  290         4\n",
      "25188     BWI         CMH      5/25/2016                  165         4\n",
      "71274     SAN         HOU       5/5/2016                  543         4\n",
      "48159     MSY         DCA       5/2/2016                  344         5\n",
      "85956     FLL         TPA       5/1/2016                  461         5\n",
      "4046      BWI         IND      5/26/2016                   50         5\n",
      "62690     MDW         PHL       5/6/2016                  240         5\n",
      "29841     DEN         ABQ      5/20/2016                  391         5\n",
      "20306     PHL         TPA       5/3/2016                   13         5\n",
      "...       ...         ...            ...                  ...       ...\n",
      "59169     MDW         PVD       5/3/2016                  645      9994\n",
      "6352      BOS         AUS      5/13/2016                  463      9994\n",
      "53710     LGA         MDW      5/30/2016                  233      9994\n",
      "43544     TUL         STL      5/29/2016                  308      9994\n",
      "104901    ATL         GSP      5/22/2016                  392      9994\n",
      "29710     STL         DEN      5/31/2016                  157      9994\n",
      "13740     LAS         OKC      5/26/2016                  101      9996\n",
      "60275     SAN         PHX      5/29/2016                   54      9996\n",
      "65615     DAL         SAT      5/22/2016                  218      9996\n",
      "83400     LAS         LAX      5/12/2016                   90      9996\n",
      "52980     MDW         LAS       5/7/2016                  329      9996\n",
      "16484     SEA         SAN      5/20/2016                  235      9996\n",
      "59934     BWI         BDL      5/18/2016                  618      9996\n",
      "61611     SMF         LAS      5/24/2016                  101      9996\n",
      "38431     MDW         LAS      5/12/2016                  564      9996\n",
      "27478     MKE         LAX       5/5/2016                  251      9996\n",
      "78258     SJU         FLL      5/20/2016                  518      9998\n",
      "72249     IAD         ATL      5/30/2016                  400      9998\n",
      "82603     BWI         PVD      5/31/2016                  160      9998\n",
      "24799     MCO         CMH      5/14/2016                  388      9998\n",
      "108546    MDW         MCI      5/21/2016                  246      9998\n",
      "65433     CMH         MDW       5/4/2016                  610      9999\n",
      "30753     DAL         SFO      5/12/2016                  505      9999\n",
      "65830     ATL         LAS       5/8/2016                  479      9999\n",
      "69816     LAX         MDW       5/6/2016                  560      9999\n",
      "102399    DAL         TUL      5/11/2016                  220      9999\n",
      "34132     MHT         MDW       5/4/2016                  560      9999\n",
      "111046    SMF         ONT       5/6/2016                  329      9999\n",
      "48770     MCO         DCA       5/7/2016                  481      9999\n",
      "98817     PVD         TPA      5/17/2016                  540      9999\n",
      "\n",
      "[52019 rows x 5 columns]\n"
     ]
    }
   ],
   "source": [
    "CustFlight = []\n",
    "\n",
    "#Loop through customers\n",
    "for cust in Customer['CustomerNumber']:\n",
    "    myflights = Customer['TotalFlights'][cust]\n",
    "\n",
    "    if myflights > 0:\n",
    "        #for each customer, select n random flights from the OnTime document\n",
    "        thiscustomerflights = OnTime.sample(n=myflights)\n",
    "        thiscustomerflights['customer'] = cust\n",
    "        CustFlight.append(thiscustomerflights)\n",
    "        #print(thiscustomerflights)\n",
    "\n",
    "\n",
    "    \n",
    "    #put into CustFlight\n",
    "\n",
    "CustFlight = pd.concat(CustFlight, axis=0)\n",
    "print(CustFlight)\n"
   ]
  },
  {
   "cell_type": "code",
   "execution_count": 21,
   "metadata": {
    "collapsed": false
   },
   "outputs": [
    {
     "data": {
      "text/plain": [
       "5.2019000000000002"
      ]
     },
     "execution_count": 21,
     "metadata": {},
     "output_type": "execute_result"
    },
    {
     "data": {
      "image/png": "[encoded data removed]",
      "text/plain": [
       "<matplotlib.figure.Figure at 0x112e3eeb8>"
      ]
     },
     "metadata": {},
     "output_type": "display_data"
    }
   ],
   "source": [
    "sns.distplot(TotalFlights)\n",
    "TotalFlights.mean()"
   ]
  },
  {
   "cell_type": "markdown",
   "metadata": {},
   "source": [
    "Quasi-Identifiers within this dataset include the intersection of Zip/Age/Gender.  Should we also include home airport as a quasi-idenitifer? This isn't necessarily a directly designated airport but it's the most frequent airport a flier goes to."
   ]
  },
  {
   "cell_type": "code",
   "execution_count": 55,
   "metadata": {
    "collapsed": false
   },
   "outputs": [
    {
     "name": "stdout",
     "output_type": "stream",
     "text": [
      "   Code\n",
      "0   ABQ\n",
      "1   ALB\n",
      "2   AMA\n",
      "3   ATL\n",
      "4   AUA\n",
      "5   AUS\n",
      "6   BDL\n",
      "7   BHM\n",
      "8   BNA\n",
      "9   BOI\n",
      "10  BOS\n",
      "11  BUF\n",
      "12  BUR\n",
      "13  BWI\n",
      "14  BZE\n",
      "15  CAK\n",
      "16  CHS\n",
      "17  CLE\n",
      "18  CLT\n",
      "19  CMH\n",
      "20  CRP\n",
      "21  CUN\n",
      "22  DAL\n",
      "23  DAY\n",
      "24  DCA\n",
      "25  DEN\n",
      "26  DSM\n",
      "27  DTW\n",
      "28  ECP\n",
      "29  ELP\n",
      "..  ...\n",
      "67  PDX\n",
      "68  PHL\n",
      "69  PHX\n",
      "70  PIT\n",
      "71  PNS\n",
      "72  PUJ\n",
      "73  PVD\n",
      "74  PVR\n",
      "75  PWM\n",
      "76  RDU\n",
      "77  RIC\n",
      "78  RNO\n",
      "79  ROC\n",
      "80  RSW\n",
      "81  SAN\n",
      "82  SAT\n",
      "83  SDF\n",
      "84  SEA\n",
      "85  SFO\n",
      "86  SJC\n",
      "87  SJD\n",
      "88  SJO\n",
      "89  SJU\n",
      "90  SLC\n",
      "91  SMF\n",
      "92  SNA\n",
      "93  STL\n",
      "94  TPA\n",
      "95  TUL\n",
      "96  TUS\n",
      "\n",
      "[97 rows x 1 columns]\n"
     ]
    }
   ],
   "source": []
  },
  {
   "cell_type": "code",
   "execution_count": 113,
   "metadata": {
    "collapsed": false
   },
   "outputs": [
    {
     "name": "stdout",
     "output_type": "stream",
     "text": [
      "   Code\n",
      "0   ABQ\n",
      "1   ALB\n",
      "2   AMA\n",
      "3   ATL\n",
      "4   AUA\n",
      "5   AUS\n",
      "6   BDL\n",
      "7   BHM\n",
      "8   BNA\n",
      "9   BOI\n",
      "10  BOS\n",
      "11  BUF\n",
      "12  BUR\n",
      "13  BWI\n",
      "14  BZE\n",
      "15  CAK\n",
      "16  CHS\n",
      "17  CLE\n",
      "18  CLT\n",
      "19  CMH\n",
      "20  CRP\n",
      "21  CUN\n",
      "22  DAL\n",
      "23  DAY\n",
      "24  DCA\n",
      "25  DEN\n",
      "26  DSM\n",
      "27  DTW\n",
      "28  ECP\n",
      "29  ELP\n",
      "..  ...\n",
      "67  PDX\n",
      "68  PHL\n",
      "69  PHX\n",
      "70  PIT\n",
      "71  PNS\n",
      "72  PUJ\n",
      "73  PVD\n",
      "74  PVR\n",
      "75  PWM\n",
      "76  RDU\n",
      "77  RIC\n",
      "78  RNO\n",
      "79  ROC\n",
      "80  RSW\n",
      "81  SAN\n",
      "82  SAT\n",
      "83  SDF\n",
      "84  SEA\n",
      "85  SFO\n",
      "86  SJC\n",
      "87  SJD\n",
      "88  SJO\n",
      "89  SJU\n",
      "90  SLC\n",
      "91  SMF\n",
      "92  SNA\n",
      "93  STL\n",
      "94  TPA\n",
      "95  TUL\n",
      "96  TUS\n",
      "\n",
      "[97 rows x 1 columns]\n"
     ]
    }
   ],
   "source": [
    "#Does strong encryption of categorical variables allow for \n",
    "#a data digger to still backwards derive the flyer's identity?\n",
    "\n",
    "from Crypto import Random\n",
    "import base64\n",
    "\n",
    "#Make a unique list of airport codes \n",
    "\n",
    "AirportCode = pd.DataFrame(np.unique(CustFlight['origin']), columns=['Code'])\n",
    "print(AirportCode)\n",
    "\n",
    "mykey = 'SMUMarchMadNeSsS'\n",
    "mykey = mykey.encode('UTF-8')\n",
    "\n",
    "#pad to a multiple of 16 using the mod function\n",
    "teststring = 'ATL'\n",
    "#teststring = bytes(teststring, ) + bytes(' '*(len(mykey)-len(teststring)%len(mykey)), 'UTF-8')\n",
    "\n",
    "#make an initialization vector for the encryption\n",
    "iv = Random.new().read(AES.block_size)\n",
    "\n",
    "cipher = AES.new(mykey, AES.MODE_CBC, IV=iv)\n",
    "\n",
    "#temp = cipher.encrypt(teststring)\n",
    "\n",
    "teststring = bytes(teststring, 'UTF-8')\n",
    "teststring = teststring + bytes(' '*(len(mykey)-len(teststring)%len(mykey)), 'UTF-8')\n",
    "\n",
    "encoded = \n",
    "\n",
    "\n",
    "\n",
    "#AirportCode['Enc'] = AirportCode.apply(print(AirportCode['Code']), axis = 0)\n"
   ]
  },
  {
   "cell_type": "code",
   "execution_count": 16,
   "metadata": {
    "collapsed": false
   },
   "outputs": [],
   "source": [
    "# alex messing with code\n"
   ]
  },
  {
   "cell_type": "code",
   "execution_count": 112,
   "metadata": {
    "collapsed": false
   },
   "outputs": [
    {
     "ename": "FileNotFoundError",
     "evalue": "File b'Data/census-dist-male-first.csv' does not exist",
     "output_type": "error",
     "traceback": [
      "\u001b[0;31m---------------------------------------------------------------------------\u001b[0m",
      "\u001b[0;31mFileNotFoundError\u001b[0m                         Traceback (most recent call last)",
      "\u001b[0;32m<ipython-input-112-27c773518a46>\u001b[0m in \u001b[0;36m<module>\u001b[0;34m()\u001b[0m\n\u001b[1;32m      1\u001b[0m \u001b[0;31m# read in names\u001b[0m\u001b[0;34m\u001b[0m\u001b[0;34m\u001b[0m\u001b[0m\n\u001b[1;32m      2\u001b[0m \u001b[0;34m\u001b[0m\u001b[0m\n\u001b[0;32m----> 3\u001b[0;31m \u001b[0mmale_first_names\u001b[0m \u001b[0;34m=\u001b[0m \u001b[0mpd\u001b[0m\u001b[0;34m.\u001b[0m\u001b[0mread_csv\u001b[0m\u001b[0;34m(\u001b[0m\u001b[0;34m'Data/census-dist-male-first.csv'\u001b[0m\u001b[0;34m)\u001b[0m\u001b[0;34m\u001b[0m\u001b[0m\n\u001b[0m\u001b[1;32m      4\u001b[0m \u001b[0;34m\u001b[0m\u001b[0m\n\u001b[1;32m      5\u001b[0m \u001b[0mfemale_first_names\u001b[0m \u001b[0;34m=\u001b[0m \u001b[0mpd\u001b[0m\u001b[0;34m.\u001b[0m\u001b[0mread_csv\u001b[0m\u001b[0;34m(\u001b[0m\u001b[0;34m'Data/census-dist-female-first.csv'\u001b[0m\u001b[0;34m)\u001b[0m\u001b[0;34m\u001b[0m\u001b[0m\n",
      "\u001b[0;32m//anaconda/lib/python3.5/site-packages/pandas/io/parsers.py\u001b[0m in \u001b[0;36mparser_f\u001b[0;34m(filepath_or_buffer, sep, delimiter, header, names, index_col, usecols, squeeze, prefix, mangle_dupe_cols, dtype, engine, converters, true_values, false_values, skipinitialspace, skiprows, nrows, na_values, keep_default_na, na_filter, verbose, skip_blank_lines, parse_dates, infer_datetime_format, keep_date_col, date_parser, dayfirst, iterator, chunksize, compression, thousands, decimal, lineterminator, quotechar, quoting, escapechar, comment, encoding, dialect, tupleize_cols, error_bad_lines, warn_bad_lines, skipfooter, skip_footer, doublequote, delim_whitespace, as_recarray, compact_ints, use_unsigned, low_memory, buffer_lines, memory_map, float_precision)\u001b[0m\n\u001b[1;32m    644\u001b[0m                     skip_blank_lines=skip_blank_lines)\n\u001b[1;32m    645\u001b[0m \u001b[0;34m\u001b[0m\u001b[0m\n\u001b[0;32m--> 646\u001b[0;31m         \u001b[0;32mreturn\u001b[0m \u001b[0m_read\u001b[0m\u001b[0;34m(\u001b[0m\u001b[0mfilepath_or_buffer\u001b[0m\u001b[0;34m,\u001b[0m \u001b[0mkwds\u001b[0m\u001b[0;34m)\u001b[0m\u001b[0;34m\u001b[0m\u001b[0m\n\u001b[0m\u001b[1;32m    647\u001b[0m \u001b[0;34m\u001b[0m\u001b[0m\n\u001b[1;32m    648\u001b[0m     \u001b[0mparser_f\u001b[0m\u001b[0;34m.\u001b[0m\u001b[0m__name__\u001b[0m \u001b[0;34m=\u001b[0m \u001b[0mname\u001b[0m\u001b[0;34m\u001b[0m\u001b[0m\n",
      "\u001b[0;32m//anaconda/lib/python3.5/site-packages/pandas/io/parsers.py\u001b[0m in \u001b[0;36m_read\u001b[0;34m(filepath_or_buffer, kwds)\u001b[0m\n\u001b[1;32m    387\u001b[0m \u001b[0;34m\u001b[0m\u001b[0m\n\u001b[1;32m    388\u001b[0m     \u001b[0;31m# Create the parser.\u001b[0m\u001b[0;34m\u001b[0m\u001b[0;34m\u001b[0m\u001b[0m\n\u001b[0;32m--> 389\u001b[0;31m     \u001b[0mparser\u001b[0m \u001b[0;34m=\u001b[0m \u001b[0mTextFileReader\u001b[0m\u001b[0;34m(\u001b[0m\u001b[0mfilepath_or_buffer\u001b[0m\u001b[0;34m,\u001b[0m \u001b[0;34m**\u001b[0m\u001b[0mkwds\u001b[0m\u001b[0;34m)\u001b[0m\u001b[0;34m\u001b[0m\u001b[0m\n\u001b[0m\u001b[1;32m    390\u001b[0m \u001b[0;34m\u001b[0m\u001b[0m\n\u001b[1;32m    391\u001b[0m     \u001b[0;32mif\u001b[0m \u001b[0;34m(\u001b[0m\u001b[0mnrows\u001b[0m \u001b[0;32mis\u001b[0m \u001b[0;32mnot\u001b[0m \u001b[0;32mNone\u001b[0m\u001b[0;34m)\u001b[0m \u001b[0;32mand\u001b[0m \u001b[0;34m(\u001b[0m\u001b[0mchunksize\u001b[0m \u001b[0;32mis\u001b[0m \u001b[0;32mnot\u001b[0m \u001b[0;32mNone\u001b[0m\u001b[0;34m)\u001b[0m\u001b[0;34m:\u001b[0m\u001b[0;34m\u001b[0m\u001b[0m\n",
      "\u001b[0;32m//anaconda/lib/python3.5/site-packages/pandas/io/parsers.py\u001b[0m in \u001b[0;36m__init__\u001b[0;34m(self, f, engine, **kwds)\u001b[0m\n\u001b[1;32m    728\u001b[0m             \u001b[0mself\u001b[0m\u001b[0;34m.\u001b[0m\u001b[0moptions\u001b[0m\u001b[0;34m[\u001b[0m\u001b[0;34m'has_index_names'\u001b[0m\u001b[0;34m]\u001b[0m \u001b[0;34m=\u001b[0m \u001b[0mkwds\u001b[0m\u001b[0;34m[\u001b[0m\u001b[0;34m'has_index_names'\u001b[0m\u001b[0;34m]\u001b[0m\u001b[0;34m\u001b[0m\u001b[0m\n\u001b[1;32m    729\u001b[0m \u001b[0;34m\u001b[0m\u001b[0m\n\u001b[0;32m--> 730\u001b[0;31m         \u001b[0mself\u001b[0m\u001b[0;34m.\u001b[0m\u001b[0m_make_engine\u001b[0m\u001b[0;34m(\u001b[0m\u001b[0mself\u001b[0m\u001b[0;34m.\u001b[0m\u001b[0mengine\u001b[0m\u001b[0;34m)\u001b[0m\u001b[0;34m\u001b[0m\u001b[0m\n\u001b[0m\u001b[1;32m    731\u001b[0m \u001b[0;34m\u001b[0m\u001b[0m\n\u001b[1;32m    732\u001b[0m     \u001b[0;32mdef\u001b[0m \u001b[0mclose\u001b[0m\u001b[0;34m(\u001b[0m\u001b[0mself\u001b[0m\u001b[0;34m)\u001b[0m\u001b[0;34m:\u001b[0m\u001b[0;34m\u001b[0m\u001b[0m\n",
      "\u001b[0;32m//anaconda/lib/python3.5/site-packages/pandas/io/parsers.py\u001b[0m in \u001b[0;36m_make_engine\u001b[0;34m(self, engine)\u001b[0m\n\u001b[1;32m    921\u001b[0m     \u001b[0;32mdef\u001b[0m \u001b[0m_make_engine\u001b[0m\u001b[0;34m(\u001b[0m\u001b[0mself\u001b[0m\u001b[0;34m,\u001b[0m \u001b[0mengine\u001b[0m\u001b[0;34m=\u001b[0m\u001b[0;34m'c'\u001b[0m\u001b[0;34m)\u001b[0m\u001b[0;34m:\u001b[0m\u001b[0;34m\u001b[0m\u001b[0m\n\u001b[1;32m    922\u001b[0m         \u001b[0;32mif\u001b[0m \u001b[0mengine\u001b[0m \u001b[0;34m==\u001b[0m \u001b[0;34m'c'\u001b[0m\u001b[0;34m:\u001b[0m\u001b[0;34m\u001b[0m\u001b[0m\n\u001b[0;32m--> 923\u001b[0;31m             \u001b[0mself\u001b[0m\u001b[0;34m.\u001b[0m\u001b[0m_engine\u001b[0m \u001b[0;34m=\u001b[0m \u001b[0mCParserWrapper\u001b[0m\u001b[0;34m(\u001b[0m\u001b[0mself\u001b[0m\u001b[0;34m.\u001b[0m\u001b[0mf\u001b[0m\u001b[0;34m,\u001b[0m \u001b[0;34m**\u001b[0m\u001b[0mself\u001b[0m\u001b[0;34m.\u001b[0m\u001b[0moptions\u001b[0m\u001b[0;34m)\u001b[0m\u001b[0;34m\u001b[0m\u001b[0m\n\u001b[0m\u001b[1;32m    924\u001b[0m         \u001b[0;32melse\u001b[0m\u001b[0;34m:\u001b[0m\u001b[0;34m\u001b[0m\u001b[0m\n\u001b[1;32m    925\u001b[0m             \u001b[0;32mif\u001b[0m \u001b[0mengine\u001b[0m \u001b[0;34m==\u001b[0m \u001b[0;34m'python'\u001b[0m\u001b[0;34m:\u001b[0m\u001b[0;34m\u001b[0m\u001b[0m\n",
      "\u001b[0;32m//anaconda/lib/python3.5/site-packages/pandas/io/parsers.py\u001b[0m in \u001b[0;36m__init__\u001b[0;34m(self, src, **kwds)\u001b[0m\n\u001b[1;32m   1388\u001b[0m         \u001b[0mkwds\u001b[0m\u001b[0;34m[\u001b[0m\u001b[0;34m'allow_leading_cols'\u001b[0m\u001b[0;34m]\u001b[0m \u001b[0;34m=\u001b[0m \u001b[0mself\u001b[0m\u001b[0;34m.\u001b[0m\u001b[0mindex_col\u001b[0m \u001b[0;32mis\u001b[0m \u001b[0;32mnot\u001b[0m \u001b[0;32mFalse\u001b[0m\u001b[0;34m\u001b[0m\u001b[0m\n\u001b[1;32m   1389\u001b[0m \u001b[0;34m\u001b[0m\u001b[0m\n\u001b[0;32m-> 1390\u001b[0;31m         \u001b[0mself\u001b[0m\u001b[0;34m.\u001b[0m\u001b[0m_reader\u001b[0m \u001b[0;34m=\u001b[0m \u001b[0m_parser\u001b[0m\u001b[0;34m.\u001b[0m\u001b[0mTextReader\u001b[0m\u001b[0;34m(\u001b[0m\u001b[0msrc\u001b[0m\u001b[0;34m,\u001b[0m \u001b[0;34m**\u001b[0m\u001b[0mkwds\u001b[0m\u001b[0;34m)\u001b[0m\u001b[0;34m\u001b[0m\u001b[0m\n\u001b[0m\u001b[1;32m   1391\u001b[0m \u001b[0;34m\u001b[0m\u001b[0m\n\u001b[1;32m   1392\u001b[0m         \u001b[0;31m# XXX\u001b[0m\u001b[0;34m\u001b[0m\u001b[0;34m\u001b[0m\u001b[0m\n",
      "\u001b[0;32mpandas/parser.pyx\u001b[0m in \u001b[0;36mpandas.parser.TextReader.__cinit__ (pandas/parser.c:4184)\u001b[0;34m()\u001b[0m\n",
      "\u001b[0;32mpandas/parser.pyx\u001b[0m in \u001b[0;36mpandas.parser.TextReader._setup_parser_source (pandas/parser.c:8449)\u001b[0;34m()\u001b[0m\n",
      "\u001b[0;31mFileNotFoundError\u001b[0m: File b'Data/census-dist-male-first.csv' does not exist"
     ]
    }
   ],
   "source": [
    "# read in names\n",
    "\n",
    "male_first_names = pd.read_csv('Data/census-dist-male-first.csv')\n",
    "\n",
    "female_first_names = pd.read_csv('Data/census-dist-female-first.csv')\n",
    "\n",
    "last_names = pd.read_csv('Data/dist.all.last.csv')\n",
    "\n",
    "print(male_first_names.head(), female_first_names.head(), last_names.head())\n",
    "\n",
    "\n"
   ]
  },
  {
   "cell_type": "code",
   "execution_count": null,
   "metadata": {
    "collapsed": false
   },
   "outputs": [],
   "source": []
  },
  {
   "cell_type": "code",
   "execution_count": null,
   "metadata": {
    "collapsed": false
   },
   "outputs": [],
   "source": [
    "\n",
    "\n"
   ]
  },
  {
   "cell_type": "code",
   "execution_count": null,
   "metadata": {
    "collapsed": false
   },
   "outputs": [],
   "source": []
  },
  {
   "cell_type": "code",
   "execution_count": 111,
   "metadata": {
    "collapsed": false
   },
   "outputs": [
    {
     "ename": "NameError",
     "evalue": "name 'female_first_names' is not defined",
     "output_type": "error",
     "traceback": [
      "\u001b[0;31m---------------------------------------------------------------------------\u001b[0m",
      "\u001b[0;31mNameError\u001b[0m                                 Traceback (most recent call last)",
      "\u001b[0;32m<ipython-input-111-08aa9ed9a0e8>\u001b[0m in \u001b[0;36m<module>\u001b[0;34m()\u001b[0m\n\u001b[1;32m      5\u001b[0m         \u001b[0mCustomer\u001b[0m\u001b[0;34m[\u001b[0m\u001b[0;34m'first_name'\u001b[0m\u001b[0;34m]\u001b[0m \u001b[0;34m=\u001b[0m \u001b[0mmale_first_names\u001b[0m\u001b[0;34m[\u001b[0m\u001b[0;34m'name'\u001b[0m\u001b[0;34m]\u001b[0m\u001b[0;34m.\u001b[0m\u001b[0msample\u001b[0m\u001b[0;34m(\u001b[0m\u001b[0mn\u001b[0m\u001b[0;34m=\u001b[0m \u001b[0;36m1\u001b[0m\u001b[0;34m)\u001b[0m\u001b[0;34m\u001b[0m\u001b[0m\n\u001b[1;32m      6\u001b[0m     \u001b[0;32melse\u001b[0m\u001b[0;34m:\u001b[0m\u001b[0;34m\u001b[0m\u001b[0m\n\u001b[0;32m----> 7\u001b[0;31m         \u001b[0mCustomer\u001b[0m\u001b[0;34m[\u001b[0m\u001b[0;34m'first_name'\u001b[0m\u001b[0;34m]\u001b[0m \u001b[0;34m=\u001b[0m \u001b[0mfemale_first_names\u001b[0m\u001b[0;34m[\u001b[0m\u001b[0;34m'name'\u001b[0m\u001b[0;34m]\u001b[0m\u001b[0;34m.\u001b[0m\u001b[0msample\u001b[0m\u001b[0;34m(\u001b[0m\u001b[0mn\u001b[0m\u001b[0;34m=\u001b[0m\u001b[0;36m1\u001b[0m\u001b[0;34m)\u001b[0m\u001b[0;34m\u001b[0m\u001b[0m\n\u001b[0m\u001b[1;32m      8\u001b[0m \u001b[0;34m\u001b[0m\u001b[0m\n\u001b[1;32m      9\u001b[0m \u001b[0;34m\u001b[0m\u001b[0m\n",
      "\u001b[0;31mNameError\u001b[0m: name 'female_first_names' is not defined"
     ]
    }
   ],
   "source": [
    "# create names -THIS DOESNT WORK...NOT SURE WHY\n",
    "\n",
    "for person in Customer['CustomerNumber']:\n",
    "    if (Customer['Gender']==1).bool == True:\n",
    "        Customer['first_name'] = male_first_names['name'].sample(n= 1)\n",
    "    else:\n",
    "        Customer['first_name'] = female_first_names['name'].sample(n=1)\n",
    "        \n",
    "\n"
   ]
  },
  {
   "cell_type": "code",
   "execution_count": 95,
   "metadata": {
    "collapsed": false
   },
   "outputs": [],
   "source": [
    "for person in Customer['CustomerNumber']:\n",
    "        Customer['first_name'] = male_first_names['name'].sample(n= 1)\n",
    "   "
   ]
  },
  {
   "cell_type": "code",
   "execution_count": null,
   "metadata": {
    "collapsed": true
   },
   "outputs": [],
   "source": [
    "#With or Without encryption can we demonstrate l-diversity, k-anononymous, and t-closeness of the slices?\n",
    "#Or demonstrate what the odds of reidentification are for a flyer?"
   ]
  },
  {
   "cell_type": "code",
   "execution_count": 96,
   "metadata": {
    "collapsed": false
   },
   "outputs": [
    {
     "data": {
      "text/plain": [
       "0    NaN\n",
       "1    NaN\n",
       "2    NaN\n",
       "3    NaN\n",
       "4    NaN\n",
       "Name: first_name, dtype: object"
      ]
     },
     "execution_count": 96,
     "metadata": {},
     "output_type": "execute_result"
    }
   ],
   "source": []
  },
  {
   "cell_type": "code",
   "execution_count": null,
   "metadata": {
    "collapsed": true
   },
   "outputs": [],
   "source": [
    "#How can we avoid reidentification of a flyer based on background knowledge?"
   ]
  }
 ],
 "metadata": {
  "anaconda-cloud": {},
  "kernelspec": {
   "display_name": "Python [default]",
   "language": "python",
   "name": "python3"
  },
  "language_info": {
   "codemirror_mode": {
    "name": "ipython",
    "version": 3
   },
   "file_extension": ".py",
   "mimetype": "text/x-python",
   "name": "python",
   "nbconvert_exporter": "python",
   "pygments_lexer": "ipython3",
   "version": "3.5.3"
  }
 },
 "nbformat": 4,
 "nbformat_minor": 2
}
