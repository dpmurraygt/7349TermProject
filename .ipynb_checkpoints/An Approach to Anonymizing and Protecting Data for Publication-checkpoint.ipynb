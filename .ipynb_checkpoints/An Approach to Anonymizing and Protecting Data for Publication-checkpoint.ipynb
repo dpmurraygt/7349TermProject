{
 "cells": [
  {
   "cell_type": "markdown",
   "metadata": {},
   "source": [
    "In our case, the dataset will be a subset of an airline's customer database.  The data contains information from the customer file, combined with information from the records of flights that each customer has taken.  "
   ]
  },
  {
   "cell_type": "markdown",
   "metadata": {},
   "source": [
    "Identifiers Contained in the Data\n",
    "\n",
    "The original data set contains each customer's frequent flier account number, as well as name, date of birth, passport number (if known by the airline) and home address.  The fields for any direct identifiers will be not be extracted from the database, but the customer's calculated age, home zip code, and gender will be extracted from the database.\n",
    "\n",
    "For each flight, the flight number, origin and destination codes, mileage, date and departure time will be included for each passenger in the subset.\n",
    "\n",
    "The airline has also declared that the records of any minors be excluded from the data extraction to protect the most sensitive passengers.  \n",
    "\n",
    "The stated objective of the release of data is for review of the data for improvements in the times and routes covered, but leaving open the possibility of additional findings by trying to show the data as deep as possible."
   ]
  },
  {
   "cell_type": "code",
   "execution_count": null,
   "metadata": {
    "collapsed": true
   },
   "outputs": [],
   "source": [
    "#Build a dataset\n",
    "\n",
    "#Customers 1->n\n",
    "\n",
    "#Make half male\n",
    "\n",
    "#Create ages distributed normally from 18 to max of 90 with a mean of 37.8, maybe a 15 year standard deviation\n",
    "\n",
    "\n",
    "#randomly create a number of flights for a customer from 1-250 flights\n",
    "\n",
    "\n",
    "#Loop to assign start and destinations for each flight for each customer\n",
    "\n"
   ]
  },
  {
   "cell_type": "markdown",
   "metadata": {},
   "source": [
    "Quasi-Identifiers within this dataset include the intersection of Zip/Age/Gender.  Should we also include home airport as a quasi-idenitifer? This isn't necessarily a directly designated airport but it's the most frequent airport a flier goes to."
   ]
  },
  {
   "cell_type": "code",
   "execution_count": null,
   "metadata": {
    "collapsed": true
   },
   "outputs": [],
   "source": [
    "#Does strong encryption of categorical variables allow for \n",
    "#a data digger to still backwards derive the flyer's identity?"
   ]
  },
  {
   "cell_type": "code",
   "execution_count": null,
   "metadata": {
    "collapsed": true
   },
   "outputs": [],
   "source": [
    "#With or Without encryption can we demonstrate l-diversity, k-anononymous, and t-closeness of the slices?\n",
    "#Or demonstrate what the odds of reidentification are for a flyer?"
   ]
  },
  {
   "cell_type": "code",
   "execution_count": null,
   "metadata": {
    "collapsed": true
   },
   "outputs": [],
   "source": [
    "#How can we avoid reidentification of a flyer based on background knowledge?"
   ]
  }
 ],
 "metadata": {
  "kernelspec": {
   "display_name": "Python [default]",
   "language": "python",
   "name": "python3"
  },
  "language_info": {
   "codemirror_mode": {
    "name": "ipython",
    "version": 3
   },
   "file_extension": ".py",
   "mimetype": "text/x-python",
   "name": "python",
   "nbconvert_exporter": "python",
   "pygments_lexer": "ipython3",
   "version": "3.5.3"
  }
 },
 "nbformat": 4,
 "nbformat_minor": 2
}
