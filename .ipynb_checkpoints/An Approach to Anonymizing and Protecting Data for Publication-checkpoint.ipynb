{
 "cells": [
  {
   "cell_type": "markdown",
   "metadata": {},
   "source": [
    "In our case, the dataset will be a subset of an airline's customer database.  The data contains information from the customer file, combined with information from the records of flights that each customer has taken.  "
   ]
  },
  {
   "cell_type": "markdown",
   "metadata": {},
   "source": [
    "Identifiers Contained in the Data\n",
    "\n",
    "The original data set contains each customer's frequent flier account number, as well as name, date of birth, passport number (if known by the airline) and home address.  The fields for any direct identifiers will be not be extracted from the database, but the customer's calculated age, home zip code, and gender will be extracted from the database.\n",
    "\n",
    "For each flight, the flight number, origin and destination codes, mileage, date and departure time will be included for each passenger in the subset.\n",
    "\n",
    "The airline has also declared that the records of any minors be excluded from the data extraction to protect the most sensitive passengers.  \n",
    "\n",
    "The stated objective of the release of data is for review of the data for improvements in the times and routes covered, but leaving open the possibility of additional findings by trying to show the data as deep as possible."
   ]
  },
  {
   "cell_type": "code",
   "execution_count": 1,
   "metadata": {
    "collapsed": false
   },
   "outputs": [
    {
     "name": "stderr",
     "output_type": "stream",
     "text": [
      "C:\\Program Files\\Anaconda3\\lib\\site-packages\\sklearn\\cross_validation.py:44: DeprecationWarning: This module was deprecated in version 0.18 in favor of the model_selection module into which all the refactored classes and functions are moved. Also note that the interface of the new CV iterators are different from that of this module. This module will be removed in 0.20.\n",
      "  \"This module will be removed in 0.20.\", DeprecationWarning)\n"
     ]
    }
   ],
   "source": [
    "# import packages\n",
    "\n",
    "import pandas as pd \n",
    "import seaborn as sns\n",
    "import numpy as np\n",
    "import matplotlib.pyplot as plt\n",
    "import scipy.stats \n",
    "import sklearn as sk\n",
    "import statsmodels.api as sm\n",
    "#import statsmodels.formula.api as smf\n",
    "from statsmodels.stats.outliers_influence import variance_inflation_factor\n",
    "\n",
    "from pandas.tools.plotting import scatter_plot\n",
    "from pandas.tools.plotting import scatter_matrix\n",
    "\n",
    "from sklearn.preprocessing import scale, StandardScaler\n",
    "from sklearn import preprocessing, cross_validation, svm\n",
    "from sklearn.linear_model import LinearRegression, Lasso, Lars, SGDRegressor\n",
    "\n",
    "from sklearn.decomposition import PCA \n",
    "from sklearn.cluster import KMeans\n",
    "from sklearn.neighbors import KNeighborsRegressor\n",
    "from sklearn.pipeline import Pipeline\n",
    "from sklearn.neighbors import KNeighborsClassifier\n",
    "from sklearn.model_selection import StratifiedKFold\n",
    "from sklearn.preprocessing import StandardScaler\n",
    "import numpy as np\n",
    "from sklearn import metrics as mt\n",
    "#from crypt import AES\n",
    "import random\n",
    "\n",
    "\n",
    "#import locale\n",
    "#locale.setlocale( locale.LC_ALL, 'en_US.UTF-8' ) \n",
    "\n",
    "from pandas.tools.plotting import scatter_matrix\n",
    "\n",
    "from sklearn.svm import SVR\n",
    "from sklearn.feature_selection import RFE, RFECV\n",
    "\n",
    "from sklearn.decomposition import PCA \n",
    "from sklearn.pipeline import Pipeline\n",
    "\n",
    "#configure the random seed so we our randomness is reproducible for selection of learn/test sets\n",
    "np.random.seed(0)\n",
    "\n",
    "%matplotlib inline"
   ]
  },
  {
   "cell_type": "code",
   "execution_count": 2,
   "metadata": {
    "collapsed": true
   },
   "outputs": [],
   "source": [
    "#Data gathering "
   ]
  },
  {
   "cell_type": "code",
   "execution_count": 3,
   "metadata": {
    "collapsed": false
   },
   "outputs": [],
   "source": [
    "#Use the flight data from our other project\n",
    "OnTime = pd.read_csv(\"Data/20170112_DataMiningI_TestDataSet_EXP_DS.csv\")\n",
    "OnTime = OnTime.loc[OnTime['flight_type_code']!= 'X']\n",
    "OnTime['route_sequence_number'] = OnTime['route_sequence_number']/100000000\n",
    "#Create indicator for ontime performance, where 1 = OnTime and 0 = LATE\n",
    "OnTime['OnTimeIndicator'] = np.where(OnTime['dot_delay_mins']>=15, 0, 1)\n",
    "#Need some Time of Day buckets\n",
    "OnTime['TimeBucket']=pd.cut(OnTime['local_scheduled_dep_time'],[0, 600, 700, 1200, 2000, 2200,2800],6, \n",
    "       labels=[\"deep_shoulder_am\", \"shoulder_am\", \"am_meat\", \"pm_meat\", \"shoulder_pm\",\"deep_shoulder_pm\"])\n",
    "#Need an \"International\" code\n",
    "OnTime['International'] = np.where(OnTime['origin_country']!=OnTime['destination_country'], 1, 0)\n",
    "del OnTime['flt_attendant_change_ind']\n",
    "OnTime['Originator_ind'] = np.where(OnTime['route_sequence_number']== 1.0,1,0)\n",
    "OnTime['D_zero_ind'] = np.where(OnTime['push_delay_mins']== 0,1,0)\n",
    "\n",
    "\n",
    "OnTime = OnTime.ix[:,['origin', 'destination', 'departure_date', 'flight_route_number']]"
   ]
  },
  {
   "cell_type": "code",
   "execution_count": 4,
   "metadata": {
    "collapsed": false
   },
   "outputs": [
    {
     "data": {
      "text/plain": [
       "Index(['origin', 'destination', 'departure_date', 'flight_route_number'], dtype='object')"
      ]
     },
     "execution_count": 4,
     "metadata": {},
     "output_type": "execute_result"
    }
   ],
   "source": [
    "OnTime.columns"
   ]
  },
  {
   "cell_type": "code",
   "execution_count": 5,
   "metadata": {
    "collapsed": false
   },
   "outputs": [],
   "source": [
    "#Get a list of Zip Codes\n",
    "ZipCode = pd.read_csv(\"free-zipcode-database-Primary.csv\")\n",
    "ZipCode.head()\n",
    "ZipCode = ZipCode.sample(500)"
   ]
  },
  {
   "cell_type": "code",
   "execution_count": 6,
   "metadata": {
    "collapsed": false
   },
   "outputs": [
    {
     "data": {
      "text/plain": [
       "(10000, 5)"
      ]
     },
     "execution_count": 6,
     "metadata": {},
     "output_type": "execute_result"
    }
   ],
   "source": [
    "#Build a dataset\n",
    "\n",
    "ncustomer = 10000\n",
    "\n",
    "#Customers 1->n\n",
    "Customer = pd.DataFrame(list(range(0,ncustomer)), columns=[\"CustomerNumber\"])\n",
    "\n",
    "#Make half male\n",
    "Gender = np.random.randint(0,2, size=(ncustomer,1))\n",
    "Customer['Gender'] = Gender\n",
    "\n",
    "#Create ages distributed normally from 18 to max of 90 with a mean of 37.8, maybe a 15 year standard deviation\n",
    "Age = 4.8* np.random.randn(ncustomer,1) + 44\n",
    "Customer['Age'] = Age\n",
    "\n",
    "\n",
    "#print(Age)\n",
    "#print(Age.min(), Age.max())\n",
    "#sns.distplot(Age)\n",
    "\n",
    "\n",
    "#Get a random sample of zipcodes\n",
    "\n",
    "MyZip = np.array(ZipCode['Zipcode'].sample(ncustomer, replace = True))\n",
    "MyZip.shape = (ncustomer,1)\n",
    "Customer['ZipCode'] = MyZip\n",
    "\n",
    "#randomly create a number of flights for a customer from 1-250 flights\n",
    "TotalFlights=7 * np.random.randn(ncustomer, 1) + 4\n",
    "\n",
    "#Convert to integer for flight numbers (round)\n",
    "#Force negatives to 0\n",
    "TotalFlights[TotalFlights<0] = 0\n",
    "TotalFlights = TotalFlights.round().astype(int)\n",
    "TotalFlights[TotalFlights>30] = 0\n",
    "TotalFlights.shape = (ncustomer,1)\n",
    "Customer['TotalFlights']=TotalFlights\n",
    "\n",
    "Customer.head()\n",
    "Customer.shape\n",
    "\n",
    "\n"
   ]
  },
  {
   "cell_type": "code",
   "execution_count": 7,
   "metadata": {
    "collapsed": false
   },
   "outputs": [
    {
     "name": "stdout",
     "output_type": "stream",
     "text": [
      "       origin destination departure_date  flight_route_number  customer\n",
      "45095     PHX         STL      5/30/2016                  281         0\n",
      "25329     DAL         ABQ      5/19/2016                   42         0\n",
      "99288     OAK         SAN       5/9/2016                   18         0\n",
      "50845     SAN         BNA      5/28/2016                  585         0\n",
      "104895    SJC         SAN      5/11/2016                  527         0\n",
      "60222     MDW         FLL      5/26/2016                  416         0\n",
      "75613     DTW         STL       5/1/2016                  368         0\n",
      "6641      PHX         OAK      5/13/2016                  185         0\n",
      "33689     BWI         CHS      5/13/2016                  347         0\n",
      "104462    HOU         MSY      5/12/2016                  251         3\n",
      "72089     FNT         MDW      5/26/2016                  243         3\n",
      "48328     SEA         OAK      5/24/2016                  179         3\n",
      "2356      SAN         TUS      5/21/2016                   50         3\n",
      "49278     OAK         DEN       5/6/2016                  255         3\n",
      "101213    LAX         STL      5/22/2016                  160         3\n",
      "9604      MCI         LAS       5/8/2016                  206         3\n",
      "103198    LAX         HOU       5/2/2016                  527         4\n",
      "95299     STL         OMA      5/24/2016                  326         4\n",
      "84267     DEN         TUL       5/5/2016                  459         4\n",
      "90121     OAK         ONT      5/28/2016                  488         4\n",
      "8771      LAS         BHM       5/8/2016                  264         4\n",
      "85683     DEN         MSP      5/26/2016                  276         4\n",
      "93622     OAK         SAN      5/16/2016                  386         4\n",
      "5669      HOU         BOS       5/5/2016                  305         5\n",
      "76479     DAL         MSY       5/3/2016                    1         5\n",
      "11781     DAL         OKC      5/13/2016                    5         5\n",
      "67325     LAX         MKE      5/31/2016                  162         5\n",
      "37384     MSP         PHX      5/25/2016                  430         5\n",
      "9103      JAX         HOU       5/7/2016                  425         5\n",
      "110390    HOU         DAL      5/25/2016                    6         6\n",
      "...       ...         ...            ...                  ...       ...\n",
      "92446     BWI         PHX      5/25/2016                  130      9993\n",
      "20290     DEN         PHL      5/24/2016                  557      9993\n",
      "58552     MSY         HOU      5/19/2016                  471      9993\n",
      "34877     HOU         STL      5/15/2016                   96      9993\n",
      "67919     BWI         SDF       5/5/2016                  476      9993\n",
      "109378    HOU         DAL       5/5/2016                    6      9993\n",
      "16323     MDW         BDL      5/12/2016                  213      9993\n",
      "16422     BOI         GEG      5/11/2016                  490      9993\n",
      "6515      DEN         OKC      5/31/2016                  106      9993\n",
      "50895     BNA         TPA       5/1/2016                  248      9993\n",
      "29129     AUS         LAX       5/1/2016                   80      9993\n",
      "93085     BUF         BWI      5/15/2016                   42      9994\n",
      "48642     AUS         MSY      5/31/2016                  347      9994\n",
      "4582      BWI         ISP      5/30/2016                  457      9997\n",
      "39720     HOU         CHS       5/6/2016                   52      9997\n",
      "89834     LAX         SLC      5/20/2016                   75      9997\n",
      "10599     RSW         ATL      5/23/2016                  377      9997\n",
      "69520     SMF         LAS       5/1/2016                  441      9997\n",
      "44219     SAT         BNA      5/15/2016                  500      9997\n",
      "77662     SMF         SAN      5/16/2016                  489      9998\n",
      "78985     MDW         DEN      5/22/2016                  380      9998\n",
      "304       MCI         ABQ      5/24/2016                  351      9998\n",
      "38690     LAS         BUF      5/30/2016                  608      9998\n",
      "49469     SAN         BWI      5/21/2016                  604      9999\n",
      "46070     PHX         SJC      5/13/2016                   72      9999\n",
      "25724     ABQ         OAK      5/28/2016                  312      9999\n",
      "4817      DEN         SJD       5/6/2016                  247      9999\n",
      "64977     OKC         LAS      5/14/2016                  438      9999\n",
      "50114     SMF         DEN      5/19/2016                   22      9999\n",
      "40146     LAX         TUS      5/14/2016                  204      9999\n",
      "\n",
      "[53027 rows x 5 columns]\n"
     ]
    }
   ],
   "source": [
    "CustFlight = []\n",
    "\n",
    "#Loop through customers\n",
    "for cust in Customer['CustomerNumber']:\n",
    "    myflights = Customer['TotalFlights'][cust]\n",
    "\n",
    "    if myflights > 0:\n",
    "        #for each customer, select n random flights from the OnTime document\n",
    "        thiscustomerflights = OnTime.sample(n=myflights)\n",
    "        thiscustomerflights['customer'] = cust\n",
    "        CustFlight.append(thiscustomerflights)\n",
    "        #print(thiscustomerflights)\n",
    "\n",
    "\n",
    "    \n",
    "    #put into CustFlight\n",
    "\n",
    "CustFlight = pd.concat(CustFlight, axis=0)\n",
    "print(CustFlight)\n"
   ]
  },
  {
   "cell_type": "code",
   "execution_count": 12,
   "metadata": {
    "collapsed": false
   },
   "outputs": [
    {
     "data": {
      "text/plain": [
       "5.2320000000000002"
      ]
     },
     "execution_count": 12,
     "metadata": {},
     "output_type": "execute_result"
    },
    {
     "data": {
      "image/png": "[encoded data removed]",
      "text/plain": [
       "<matplotlib.figure.Figure at 0x1126fba90>"
      ]
     },
     "metadata": {},
     "output_type": "display_data"
    }
   ],
   "source": [
    "sns.distplot(TotalFlights)\n",
    "TotalFlights.mean()"
   ]
  },
  {
   "cell_type": "markdown",
   "metadata": {},
   "source": [
    "Quasi-Identifiers within this dataset include the intersection of Zip/Age/Gender.  Should we also include home airport as a quasi-idenitifer? This isn't necessarily a directly designated airport but it's the most frequent airport a flier goes to."
   ]
  },
  {
   "cell_type": "code",
   "execution_count": null,
   "metadata": {
    "collapsed": true
   },
   "outputs": [],
   "source": [
    "#Does strong encryption of categorical variables allow for \n",
    "#a data digger to still backwards derive the flyer's identity?"
   ]
  },
  {
   "cell_type": "code",
   "execution_count": 16,
   "metadata": {
    "collapsed": false
   },
   "outputs": [],
   "source": [
    "# alex messing with code\n"
   ]
  },
  {
   "cell_type": "code",
   "execution_count": 38,
   "metadata": {
    "collapsed": false
   },
   "outputs": [
    {
     "name": "stdout",
     "output_type": "stream",
     "text": [
      "      name  value  value_2  number\n",
      "0    JAMES  3.318    3.318       1\n",
      "1     JOHN  3.271    6.589       2\n",
      "2   ROBERT  3.143    9.732       3\n",
      "3  MICHAEL  2.629   12.361       4\n",
      "4  WILLIAM  2.451   14.812       5         name  value  value_2  number\n",
      "0       MARY  2.629    2.629       1\n",
      "1   PATRICIA  1.073    3.702       2\n",
      "2      LINDA  1.035    4.736       3\n",
      "3    BARBARA  0.980    5.716       4\n",
      "4  ELIZABETH  0.937    6.653       5        name  value  value_2  number\n",
      "0     SMITH  1.006    1.006       1\n",
      "1   JOHNSON  0.810    1.816       2\n",
      "2  WILLIAMS  0.699    2.515       3\n",
      "3     JONES  0.621    3.136       4\n",
      "4     BROWN  0.621    3.757       5\n"
     ]
    }
   ],
   "source": [
    "# read in names\n",
    "\n",
    "male_first_names = pd.read_csv('Data/census-dist-male-first.csv')\n",
    "\n",
    "female_first_names = pd.read_csv('Data/census-dist-female-first.csv')\n",
    "\n",
    "last_names = pd.read_csv('Data/dist.all.last.csv')\n",
    "\n",
    "print(male_first_names.head(), female_first_names.head(), last_names.head())\n",
    "\n",
    "\n"
   ]
  },
  {
   "cell_type": "code",
   "execution_count": null,
   "metadata": {
    "collapsed": false
   },
   "outputs": [],
   "source": []
  },
  {
   "cell_type": "code",
   "execution_count": null,
   "metadata": {
    "collapsed": false
   },
   "outputs": [],
   "source": [
    "\n",
    "\n"
   ]
  },
  {
   "cell_type": "code",
   "execution_count": null,
   "metadata": {
    "collapsed": false
   },
   "outputs": [],
   "source": []
  },
  {
   "cell_type": "code",
   "execution_count": 89,
   "metadata": {
    "collapsed": false
   },
   "outputs": [],
   "source": [
    "# create names -THIS DOESNT WORK...NOT SURE WHY\n",
    "\n",
    "for person in Customer['CustomerNumber']:\n",
    "    if (Customer['Gender']==1).bool == True:\n",
    "        Customer['first_name'] = male_first_names['name'].sample(n= 1)\n",
    "    else:\n",
    "        Customer['first_name'] = female_first_names['name'].sample(n=1)\n",
    "        \n",
    "\n"
   ]
  },
  {
   "cell_type": "code",
   "execution_count": 95,
   "metadata": {
    "collapsed": false
   },
   "outputs": [],
   "source": [
    "for person in Customer['CustomerNumber']:\n",
    "        Customer['first_name'] = male_first_names['name'].sample(n= 1)\n",
    "   "
   ]
  },
  {
   "cell_type": "code",
   "execution_count": null,
   "metadata": {
    "collapsed": true
   },
   "outputs": [],
   "source": [
    "#With or Without encryption can we demonstrate l-diversity, k-anononymous, and t-closeness of the slices?\n",
    "#Or demonstrate what the odds of reidentification are for a flyer?"
   ]
  },
  {
   "cell_type": "code",
   "execution_count": 96,
   "metadata": {
    "collapsed": false
   },
   "outputs": [
    {
     "data": {
      "text/plain": [
       "0    NaN\n",
       "1    NaN\n",
       "2    NaN\n",
       "3    NaN\n",
       "4    NaN\n",
       "Name: first_name, dtype: object"
      ]
     },
     "execution_count": 96,
     "metadata": {},
     "output_type": "execute_result"
    }
   ],
   "source": []
  },
  {
   "cell_type": "code",
   "execution_count": null,
   "metadata": {
    "collapsed": true
   },
   "outputs": [],
   "source": [
    "#How can we avoid reidentification of a flyer based on background knowledge?"
   ]
  }
 ],
 "metadata": {
  "anaconda-cloud": {},
  "kernelspec": {
   "display_name": "Python [default]",
   "language": "python",
   "name": "python3"
  },
  "language_info": {
   "codemirror_mode": {
    "name": "ipython",
    "version": 3
   },
   "file_extension": ".py",
   "mimetype": "text/x-python",
   "name": "python",
   "nbconvert_exporter": "python",
   "pygments_lexer": "ipython3",
   "version": "3.5.2"
  }
 },
 "nbformat": 4,
 "nbformat_minor": 2
}
